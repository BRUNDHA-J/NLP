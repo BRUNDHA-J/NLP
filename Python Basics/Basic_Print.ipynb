{
 "cells": [
  {
   "cell_type": "code",
   "execution_count": 1,
   "id": "5b121345",
   "metadata": {},
   "outputs": [],
   "source": [
    "person= \"Brundha\""
   ]
  },
  {
   "cell_type": "code",
   "execution_count": 2,
   "id": "78f4e07e",
   "metadata": {},
   "outputs": [
    {
     "name": "stdout",
     "output_type": "stream",
     "text": [
      "My Name is Brundha\n"
     ]
    }
   ],
   "source": [
    "print(\"My Name is {}\".format(person))"
   ]
  },
  {
   "cell_type": "code",
   "execution_count": 3,
   "id": "c817472f",
   "metadata": {},
   "outputs": [
    {
     "name": "stdout",
     "output_type": "stream",
     "text": [
      "My Name is {person}\n"
     ]
    }
   ],
   "source": [
    "print(\"My Name is {person}\")"
   ]
  },
  {
   "cell_type": "code",
   "execution_count": 4,
   "id": "77ecfe61",
   "metadata": {},
   "outputs": [
    {
     "name": "stdout",
     "output_type": "stream",
     "text": [
      "My Name is Brundha\n"
     ]
    }
   ],
   "source": [
    "print(f\"My Name is {person}\")"
   ]
  },
  {
   "cell_type": "code",
   "execution_count": 5,
   "id": "2354574d",
   "metadata": {},
   "outputs": [],
   "source": [
    "d={'a':123,'b':985}"
   ]
  },
  {
   "cell_type": "code",
   "execution_count": 6,
   "id": "90402b8f",
   "metadata": {},
   "outputs": [
    {
     "name": "stdout",
     "output_type": "stream",
     "text": [
      "My number is 123\n"
     ]
    }
   ],
   "source": [
    "print(f\"My number is {d['a']}\")"
   ]
  },
  {
   "cell_type": "code",
   "execution_count": 7,
   "id": "5ae3b6d2",
   "metadata": {},
   "outputs": [],
   "source": [
    "mylist = [1,2,3,5,8]"
   ]
  },
  {
   "cell_type": "code",
   "execution_count": 11,
   "id": "1a3c7b82",
   "metadata": {},
   "outputs": [
    {
     "name": "stdout",
     "output_type": "stream",
     "text": [
      "My number is 5\n"
     ]
    }
   ],
   "source": [
    "print(f\"My number is {mylist[3]}\")"
   ]
  },
  {
   "cell_type": "code",
   "execution_count": 13,
   "id": "10b94677",
   "metadata": {},
   "outputs": [],
   "source": [
    "library = [('Author','Subject','Pages'),('Twain','Rafting',165),('Feynman','Physics','956'),('Hamilton','Mythology','25')]"
   ]
  },
  {
   "cell_type": "code",
   "execution_count": 14,
   "id": "c07b1879",
   "metadata": {},
   "outputs": [
    {
     "name": "stdout",
     "output_type": "stream",
     "text": [
      "('Author', 'Subject', 'Pages')\n",
      "('Twain', 'Rafting', 165)\n",
      "('Feynman', 'Physics', '956')\n",
      "('Hamilton', 'Mythology', '25')\n"
     ]
    }
   ],
   "source": [
    "for book in library:\n",
    "    print(book)"
   ]
  },
  {
   "cell_type": "code",
   "execution_count": 15,
   "id": "c1d786bb",
   "metadata": {},
   "outputs": [],
   "source": [
    "library = [('Author','Subject','Pages'),('Twain','Rafting',165),('Feynman','Physics',956),('Hamilton','Mythology',25)]"
   ]
  },
  {
   "cell_type": "code",
   "execution_count": 18,
   "id": "358b6be6",
   "metadata": {},
   "outputs": [
    {
     "name": "stdout",
     "output_type": "stream",
     "text": [
      "Author\n",
      "Author is Author\n",
      "Twain\n",
      "Author is Twain\n",
      "Feynman\n",
      "Author is Feynman\n",
      "Hamilton\n",
      "Author is Hamilton\n"
     ]
    }
   ],
   "source": [
    "for book in library:\n",
    "    print(f\"{book[0]}\")\n",
    "    print(f\"Author is {book[0]}\")    "
   ]
  },
  {
   "cell_type": "code",
   "execution_count": 20,
   "id": "fb7a1ec0",
   "metadata": {},
   "outputs": [
    {
     "name": "stdout",
     "output_type": "stream",
     "text": [
      "Author Subject Pages\n",
      "Twain Rafting 165\n",
      "Feynman Physics 956\n",
      "Hamilton Mythology 25\n"
     ]
    }
   ],
   "source": [
    "for author,subject,pages in library:\n",
    "    print(f\"{author} {subject} {pages}\")"
   ]
  },
  {
   "cell_type": "code",
   "execution_count": 22,
   "id": "cae750de",
   "metadata": {},
   "outputs": [
    {
     "name": "stdout",
     "output_type": "stream",
     "text": [
      "Author                         Subject              Pages     \n",
      "Twain                          Rafting                     165\n",
      "Feynman                        Physics                     956\n",
      "Hamilton                       Mythology                    25\n"
     ]
    }
   ],
   "source": [
    "for author,subject,pages in library:\n",
    "    print(f\"{author:{30}} {subject:{20}} {pages:{10}}\")"
   ]
  },
  {
   "cell_type": "code",
   "execution_count": 24,
   "id": "7e9b4d4f",
   "metadata": {},
   "outputs": [
    {
     "name": "stdout",
     "output_type": "stream",
     "text": [
      "Author                         Subject              -----Pages\n",
      "Twain                          Rafting              -------165\n",
      "Feynman                        Physics              -------956\n",
      "Hamilton                       Mythology            --------25\n"
     ]
    }
   ],
   "source": [
    "for author,subject,pages in library:\n",
    "    print(f\"{author:{30}} {subject:{20}} {pages:->{10}}\")"
   ]
  },
  {
   "cell_type": "code",
   "execution_count": 26,
   "id": "49997842",
   "metadata": {},
   "outputs": [
    {
     "name": "stdout",
     "output_type": "stream",
     "text": [
      "2021-06-03 00:00:00\n"
     ]
    }
   ],
   "source": [
    "from datetime import datetime\n",
    "today = datetime(year=2021,month=6,day=3)\n",
    "print(f\"{today}\")"
   ]
  },
  {
   "cell_type": "code",
   "execution_count": 27,
   "id": "79e6772d",
   "metadata": {},
   "outputs": [
    {
     "data": {
      "text/plain": [
       "datetime.datetime(2021, 6, 3, 0, 0)"
      ]
     },
     "execution_count": 27,
     "metadata": {},
     "output_type": "execute_result"
    }
   ],
   "source": [
    "today"
   ]
  },
  {
   "cell_type": "code",
   "execution_count": 29,
   "id": "df8579f4",
   "metadata": {},
   "outputs": [
    {
     "name": "stdout",
     "output_type": "stream",
     "text": [
      "June 03 21\n"
     ]
    }
   ],
   "source": [
    "print(f\"{today:%B %d %y}\")"
   ]
  },
  {
   "cell_type": "code",
   "execution_count": null,
   "id": "1eb4a280",
   "metadata": {},
   "outputs": [],
   "source": []
  }
 ],
 "metadata": {
  "kernelspec": {
   "display_name": "Python 3",
   "language": "python",
   "name": "python3"
  },
  "language_info": {
   "codemirror_mode": {
    "name": "ipython",
    "version": 3
   },
   "file_extension": ".py",
   "mimetype": "text/x-python",
   "name": "python",
   "nbconvert_exporter": "python",
   "pygments_lexer": "ipython3",
   "version": "3.8.8"
  }
 },
 "nbformat": 4,
 "nbformat_minor": 5
}
