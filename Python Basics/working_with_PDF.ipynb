{
 "cells": [
  {
   "cell_type": "code",
   "execution_count": 1,
   "id": "1c56a7c2",
   "metadata": {},
   "outputs": [],
   "source": [
    "import PyPDF2"
   ]
  },
  {
   "cell_type": "code",
   "execution_count": 2,
   "id": "04d17c78",
   "metadata": {},
   "outputs": [],
   "source": [
    "myfile = open(\"C:\\\\Users\\\\Suhas Reddy\\\\Desktop\\\\Insurance_claming\\\\SettlingClaims20081.pdf\",mode = 'rb')"
   ]
  },
  {
   "cell_type": "code",
   "execution_count": 3,
   "id": "4827b97e",
   "metadata": {},
   "outputs": [
    {
     "name": "stderr",
     "output_type": "stream",
     "text": [
      "PdfReadWarning: Xref table not zero-indexed. ID numbers for objects will be corrected. [pdf.py:1736]\n"
     ]
    }
   ],
   "source": [
    "pdf_reader = PyPDF2.PdfFileReader(myfile)"
   ]
  },
  {
   "cell_type": "code",
   "execution_count": 4,
   "id": "f613afbf",
   "metadata": {},
   "outputs": [
    {
     "data": {
      "text/plain": [
       "{'/CreationDate': \"D:20080908112803-04'00'\",\n",
       " '/Creator': 'Adobe InDesign CS2 (4.0.5)',\n",
       " '/Producer': 'Adobe PDF Library 7.0',\n",
       " '/ModDate': \"D:20080908112806-04'00'\",\n",
       " '/Trapped': '/False'}"
      ]
     },
     "execution_count": 4,
     "metadata": {},
     "output_type": "execute_result"
    }
   ],
   "source": [
    "pdf_reader.documentInfo"
   ]
  },
  {
   "cell_type": "code",
   "execution_count": 5,
   "id": "56665c51",
   "metadata": {},
   "outputs": [
    {
     "data": {
      "text/plain": [
       "9"
      ]
     },
     "execution_count": 5,
     "metadata": {},
     "output_type": "execute_result"
    }
   ],
   "source": [
    "pdf_reader.getNumPages()"
   ]
  },
  {
   "cell_type": "code",
   "execution_count": 6,
   "id": "5017183e",
   "metadata": {},
   "outputs": [
    {
     "data": {
      "text/plain": [
       "9"
      ]
     },
     "execution_count": 6,
     "metadata": {},
     "output_type": "execute_result"
    }
   ],
   "source": [
    "pdf_reader.numPages"
   ]
  },
  {
   "cell_type": "code",
   "execution_count": 7,
   "id": "3c90a370",
   "metadata": {},
   "outputs": [],
   "source": [
    "page_no = pdf_reader.getPage(0)"
   ]
  },
  {
   "cell_type": "code",
   "execution_count": 8,
   "id": "7940671d",
   "metadata": {},
   "outputs": [
    {
     "data": {
      "text/plain": [
       "'Settling \\nInsurance\\n Claims \\nAfter a \\n Disaster\\nWhat you need to know about\\nŁ how to ˜le a claim\\nŁ how the claim process works\\nŁ what™s covered and what™s not\\n'"
      ]
     },
     "execution_count": 8,
     "metadata": {},
     "output_type": "execute_result"
    }
   ],
   "source": [
    "page_no.extractText()"
   ]
  },
  {
   "cell_type": "code",
   "execution_count": 9,
   "id": "053c870e",
   "metadata": {},
   "outputs": [
    {
     "name": "stdout",
     "output_type": "stream",
     "text": [
      "Settling \n",
      "Insurance\n",
      " Claims \n",
      "After a \n",
      " Disaster\n",
      "What you need to know about\n",
      "Ł how to ˜le a claim\n",
      "Ł how the claim process works\n",
      "Ł what™s covered and what™s not\n",
      "\n"
     ]
    }
   ],
   "source": [
    "print(page_no.extractText())"
   ]
  },
  {
   "cell_type": "code",
   "execution_count": 10,
   "id": "3df906d9",
   "metadata": {},
   "outputs": [],
   "source": [
    "page_five = pdf_reader.getPage(5)"
   ]
  },
  {
   "cell_type": "code",
   "execution_count": 11,
   "id": "0f48a782",
   "metadata": {},
   "outputs": [
    {
     "data": {
      "text/plain": [
       "'sold just before the disaster. Kelley Blue Book \\n(www.kbb.com) or other such publications can \\ngive you an idea of what your car was worth.Trees and shrubbery:\\n Most insurance com-panies will pay up to $500 for the removal of trees or shrubs that have fallen on your home. They will also pay for damage caused to insured structures and their contents up to policy limits, but they won™t pay to remove \\ntrees that have fallen causing a mess in  your yard. Water:\\n While homeowners policies don™t \\ncover ˚ood damage, they cover other kinds of water damage. For example, they will gener-ally pay for damage from rain coming through a hole in the roof or a broken window as long as the hole was caused by a hurricane or other disaster covered by the policy. If there is water \\ndamage, check with your agent or insurance company representative as to whether it is covered.The Payment \\n Process\\nDisasters can make enormous demands on  insurance company personnel. Sometimes  after a major disaster, state of˜cials ask \\n insurance company adjusters to see everyone \\nwho has ˜led a claim before a certain date. When there are a huge number of claims, the deadline may force some to make a rough ˜rst \\nestimate. If the ˜rst evaluation is not complete, \\nset up an appointment for a second visit. The ˜rst check you get from your insurance com-pany is often an advance. If you™re offered an on-the-spot settlement, you can accept the check right away. Later on, if you ˜nd other \\ndamage, you can ﬁreopenﬂ the claim and ˜le for an additional amount. Most policies require claims to be filed within one year from the date of the disaster. Some insurance companies may require you to ˜ll out and sign a proof of loss\\n form. This formal statement provides details of your losses and the amount of money you™re claim-ing and acts as a legal record. Some companies \\n waive this requirement after a disaster if you™ve met with the adjuster, especially if \\n your claim is not complicated.The choice of repair ˜rms is yours. If your home was adequately insured, you won™t \\n1110'"
      ]
     },
     "execution_count": 11,
     "metadata": {},
     "output_type": "execute_result"
    }
   ],
   "source": [
    "page_five.extractText()"
   ]
  },
  {
   "cell_type": "code",
   "execution_count": 12,
   "id": "53b7b022",
   "metadata": {},
   "outputs": [
    {
     "name": "stdout",
     "output_type": "stream",
     "text": [
      "sold just before the disaster. Kelley Blue Book \n",
      "(www.kbb.com) or other such publications can \n",
      "give you an idea of what your car was worth.Trees and shrubbery:\n",
      " Most insurance com-panies will pay up to $500 for the removal of trees or shrubs that have fallen on your home. They will also pay for damage caused to insured structures and their contents up to policy limits, but they won™t pay to remove \n",
      "trees that have fallen causing a mess in  your yard. Water:\n",
      " While homeowners policies don™t \n",
      "cover ˚ood damage, they cover other kinds of water damage. For example, they will gener-ally pay for damage from rain coming through a hole in the roof or a broken window as long as the hole was caused by a hurricane or other disaster covered by the policy. If there is water \n",
      "damage, check with your agent or insurance company representative as to whether it is covered.The Payment \n",
      " Process\n",
      "Disasters can make enormous demands on  insurance company personnel. Sometimes  after a major disaster, state of˜cials ask \n",
      " insurance company adjusters to see everyone \n",
      "who has ˜led a claim before a certain date. When there are a huge number of claims, the deadline may force some to make a rough ˜rst \n",
      "estimate. If the ˜rst evaluation is not complete, \n",
      "set up an appointment for a second visit. The ˜rst check you get from your insurance com-pany is often an advance. If you™re offered an on-the-spot settlement, you can accept the check right away. Later on, if you ˜nd other \n",
      "damage, you can ﬁreopenﬂ the claim and ˜le for an additional amount. Most policies require claims to be filed within one year from the date of the disaster. Some insurance companies may require you to ˜ll out and sign a proof of loss\n",
      " form. This formal statement provides details of your losses and the amount of money you™re claim-ing and acts as a legal record. Some companies \n",
      " waive this requirement after a disaster if you™ve met with the adjuster, especially if \n",
      " your claim is not complicated.The choice of repair ˜rms is yours. If your home was adequately insured, you won™t \n",
      "1110\n"
     ]
    }
   ],
   "source": [
    "print(page_five.extractText())"
   ]
  },
  {
   "cell_type": "code",
   "execution_count": 13,
   "id": "bd8e9c6c",
   "metadata": {},
   "outputs": [],
   "source": [
    "myfile.close()"
   ]
  },
  {
   "cell_type": "markdown",
   "id": "19e60582",
   "metadata": {},
   "source": [
    "## Adding another pages to pdf\n",
    "we cannot directly write text into pdf file.\n",
    "we can copy a page from different pdf or same pdf file and then append them"
   ]
  },
  {
   "cell_type": "code",
   "execution_count": 14,
   "id": "b935a7dd",
   "metadata": {},
   "outputs": [],
   "source": [
    "f = open(\"C:\\\\Users\\\\Suhas Reddy\\\\Desktop\\\\Insurance_claming\\\\SettlingClaims20081.pdf\",mode = 'rb')"
   ]
  },
  {
   "cell_type": "code",
   "execution_count": 15,
   "id": "e0eef109",
   "metadata": {},
   "outputs": [],
   "source": [
    "pdf_reader = PyPDF2.PdfFileReader(f)"
   ]
  },
  {
   "cell_type": "code",
   "execution_count": 16,
   "id": "f6f81bbf",
   "metadata": {},
   "outputs": [],
   "source": [
    "first_page = pdf_reader.getPage(3)"
   ]
  },
  {
   "cell_type": "code",
   "execution_count": 17,
   "id": "6e648867",
   "metadata": {},
   "outputs": [],
   "source": [
    "pdf_write = PyPDF2.PdfFileWriter()"
   ]
  },
  {
   "cell_type": "code",
   "execution_count": 18,
   "id": "f1576de8",
   "metadata": {},
   "outputs": [],
   "source": [
    "pdf_write.addPage(first_page)"
   ]
  },
  {
   "cell_type": "code",
   "execution_count": 19,
   "id": "f12b11ae",
   "metadata": {},
   "outputs": [],
   "source": [
    "pdf_output = open(\"My_Brand_New.pdf\",'wb')"
   ]
  },
  {
   "cell_type": "code",
   "execution_count": 20,
   "id": "72742c2f",
   "metadata": {},
   "outputs": [],
   "source": [
    "pdf_write.write(pdf_output)"
   ]
  },
  {
   "cell_type": "code",
   "execution_count": 21,
   "id": "76b05eb4",
   "metadata": {},
   "outputs": [],
   "source": [
    "pdf_output.close()"
   ]
  },
  {
   "cell_type": "code",
   "execution_count": 22,
   "id": "82c9ae67",
   "metadata": {},
   "outputs": [],
   "source": [
    "f.close()"
   ]
  },
  {
   "cell_type": "code",
   "execution_count": 23,
   "id": "35b151f4",
   "metadata": {},
   "outputs": [],
   "source": [
    "new = open(\"My_Brand_New.pdf\",'rb')"
   ]
  },
  {
   "cell_type": "code",
   "execution_count": 24,
   "id": "a265e48d",
   "metadata": {},
   "outputs": [],
   "source": [
    "new_reader = PyPDF2.PdfFileReader(new)"
   ]
  },
  {
   "cell_type": "code",
   "execution_count": 25,
   "id": "8fb308c3",
   "metadata": {},
   "outputs": [
    {
     "data": {
      "text/plain": [
       "1"
      ]
     },
     "execution_count": 25,
     "metadata": {},
     "output_type": "execute_result"
    }
   ],
   "source": [
    "new_reader.getNumPages()"
   ]
  },
  {
   "cell_type": "code",
   "execution_count": 26,
   "id": "6b10fb67",
   "metadata": {},
   "outputs": [],
   "source": [
    "new = new_reader.getPage(0)"
   ]
  },
  {
   "cell_type": "code",
   "execution_count": 27,
   "id": "7c47158a",
   "metadata": {},
   "outputs": [
    {
     "name": "stdout",
     "output_type": "stream",
     "text": [
      "With an \n",
      "extended replacement cost\n",
      " policy your insurer will pay a certain percentage over \n",
      "the limit to rebuild your homeŠ20 percent \n",
      " or more, depending on the insurerŠso that  if building costs go up unexpectedly, you \n",
      " will have extra funds to cover the bill. A few insurance companies offer a guaranteed  replacement\n",
      " cost policy that pays whatever it costs to rebuild your home as it was before the disaster. But neither type of policy will pay for \n",
      "more expensive materials than those that were used in the structure that was destroyed.Mobile Home, Stated Amount:\n",
      " If you own a \n",
      "mobile home, you may have a \n",
      "stated amount \n",
      "policy. With this policy, the maximum amount \n",
      "you receive if your home is destroyed is the \n",
      "sum you agreed to when the policy was issued. \n",
      "If you opt for the \n",
      "stated amount\n",
      ", update your \n",
      "policy annually to make sure that the amount \n",
      "will cover the cost of replacing your mobile \n",
      "home. Check with local mobile home dealers \n",
      " to ˜nd out what similar homes now sell for. \n",
      "Policy limits\n",
      "Most insurance policies provide adequate  coverage because they include an in˜ation-guard\n",
      " clause to keep up with increases in local building costs. If you have replacement cost\n",
      "  coverage, your insurance company will pay the full cost of repairing or replacing the damaged structure with a building of ﬁlike kind and quality.ﬂ In other words, if you were \n",
      "adequately insured and lived in a three- bedroom ranch before the disaster, your \n",
      " insurance company would pay to build a  similar three-bedroom ranch. Most insurance companies recommend that a dwelling be insured for 100 percent \n",
      " of replacement cost so that you have enough money to rebuild if your home is totally  destroyed. You may not be fully covered, how-ever, if you have made significant improvements on your house, such as enclosing a porch to create anoth-er room or expanding your kitchen, without informing your insurance company of the changes at the time. Temporary living expenses \n",
      "If you can™t live in your home because of the \n",
      "damage, your insurance company will advance you money to pay for reasonable additional living expenses. The amount available to pay for such expenses is generally equal to 20 percent of the insurance on your home. This \n",
      "amount is in addition to the money for repairs or to rebuild your home. Some insurance companies pay more than 20 percent. Others \n",
      "limit additional living expenses to the amount spent during a certain period of time. Among the items typically covered are eating out, rent, telephone or utility installa-tion costs in a temporary residence and extra \n",
      "transportation costs. Insurance policies often discuss additional living expenses under the heading loss of use.76\n"
     ]
    }
   ],
   "source": [
    "print(new.extractText())"
   ]
  },
  {
   "cell_type": "markdown",
   "id": "be7e0dac",
   "metadata": {},
   "source": [
    "## Printing all Pages in PDF"
   ]
  },
  {
   "cell_type": "code",
   "execution_count": 28,
   "id": "cc9a1781",
   "metadata": {},
   "outputs": [],
   "source": [
    "f = open(\"C:\\\\Users\\\\Suhas Reddy\\\\Desktop\\\\Insurance_claming\\\\SettlingClaims20081.pdf\",mode = 'rb')"
   ]
  },
  {
   "cell_type": "code",
   "execution_count": 29,
   "id": "a566d6d7",
   "metadata": {},
   "outputs": [],
   "source": [
    "pdf_reader = PyPDF2.PdfFileReader(f)\n",
    "pdf_text =[]\n",
    "for p in range(pdf_reader.numPages):\n",
    "    Page = pdf_reader.getPage(p)\n",
    "    pdf_text.append(Page.extractText())\n",
    "f.close()\n",
    "    "
   ]
  },
  {
   "cell_type": "code",
   "execution_count": 30,
   "id": "1316cc9e",
   "metadata": {},
   "outputs": [
    {
     "data": {
      "text/plain": [
       "['Settling \\nInsurance\\n Claims \\nAfter a \\n Disaster\\nWhat you need to know about\\nŁ how to ˜le a claim\\nŁ how the claim process works\\nŁ what™s covered and what™s not\\n',\n",
       " 'If you need to relocate, \\nkeep your receipts \\nIf you need to ˜nd other accommodations while your home is being repaired, keep records of your expenses. Homeowners insur-ance policies provide coverage for the cost of additional living expenses if your home is damaged by an insured disaster.\\nPrepare for the \\nadjuster™s visits \\nYour insurance company may send you a \\n proof of loss\\n form to complete or an adjuster may visit your home ˜rst. (An adjuster is a  person professionally trained to assess the damage.) In either case, the more information you have about your damaged possessionsŠ a description of the item, approximate date of purchase and what it would cost to replace or \\nrepairŠthe faster your claim generally can be settled. To substantiate your loss, prepare an \\ninventory of damaged or destroyed items \\nand give a copy to the adjuster along with copies of any receipts. Don™t throw out \\ndamaged items until the adjuster has  visited. You should also consider photo-\\ngraphing or videotaping the damage. If your property was destroyed or you no longer have any records, work from memory. \\nFirst\\nSteps\\nContact your agent or company \\nimmediately. Find out\\n  Whether the damage is covered under the terms of your policy  how long you have to ˜le a claim  whether your claim exceeds your deduct-ible (the amount of loss you agree to pay before insurance kicks in)  how long it will take to process the claim  whether you™ll need estimates for repairsMake temporary repairs\\n Take reasonable steps to protect your property \\nfrom further damage. Save receipts for what you spend and submit them to your insurance company for reimbursement. Remember that payments for temporary repairs are part of \\nthe total settlement. So if you pay a contrac-tor a large sum for a temporary repair job, you \\nmay not have enough money for permanent repairs. Beware of contractors who ask for a large amount of money up front and contrac-tors whose bids are very lowŠthey might \\ncut corners and do shabby work. Don™t make \\nextensive permanent repairs until the claims adjuster has assessed the damage. 32',\n",
       " 'Factors that Determine the Amount of  Settlement  You Get Identify structural damage to your home and other structures such as a garage, tool shed or in-ground swimming pool. Make a list of everything you want to show the \\nadjuster, for example, cracks in the walls \\nand missing roof tiles. You should also get \\nthe electrical system checked. Most insur-ance companies pay for these inspections.  Get written bids from licensed contractors. The bids should include details of the  materials to be used and prices on a line-by-line basis. This makes adjusting the claim faster and simpler. \\n Keep copies of the lists and other docu-ments you submit to your insurance  company. Also keep copies of whatever \\npaperwork your insurance company gives \\nyou and record the names and phone numbers of everyone you speak to.\\nFlood damage is excluded under standard homeowners and renters insurance policies. Flood coverage, however, is available as a separate \\npolicy from the federal government™s \\nNational Flood Insurance Program (NFIP) and from a few private insur-ers. The NFIP provides coverage up to $250,000 for the structure of the home and $100,000 for personal possessions. Flood insurance claims should be ˜led with your homeowners insurance company.\\nFactors That \\n Determine \\n the Amount of \\n Settlement \\nYou Get\\nType of Policy\\nReplacement Cost and Actual Cash Value:\\n Replacement cost policies provides you with the dollar amount needed to replace a damaged item with one of similar kind and quality without deducting for depreciation (the decrease in value due to age, wear and tear, and other factors). \\n Actual cash value policies pay the amount needed to replace the item minus depreciation. Suppose, for example, a tree fell through the roof onto your eight-year-old washing  machine. With a \\nreplacement cost\\n policy, the \\ninsurance company would pay to replace the old machine with a new one. If you had an actual cash value policy, the company would pay only \\na part of the cost of a new washing machine because a machine that has been used for eight years is worth less than its original cost.Extended and Guaranteed Replacement Cost: If your home is damaged beyond repair, a typical \\nhomeowners policy will pay to replace it up to the limits of the policy. If the value of your insur\\n-ance policy has kept up with increases in local building costs, a similar dwelling can generally be built for an amount within the policy limits.54',\n",
       " 'With an \\nextended replacement cost\\n policy your insurer will pay a certain percentage over \\nthe limit to rebuild your homeŠ20 percent \\n or more, depending on the insurerŠso that  if building costs go up unexpectedly, you \\n will have extra funds to cover the bill. A few insurance companies offer a guaranteed  replacement\\n cost policy that pays whatever it costs to rebuild your home as it was before the disaster. But neither type of policy will pay for \\nmore expensive materials than those that were used in the structure that was destroyed.Mobile Home, Stated Amount:\\n If you own a \\nmobile home, you may have a \\nstated amount \\npolicy. With this policy, the maximum amount \\nyou receive if your home is destroyed is the \\nsum you agreed to when the policy was issued. \\nIf you opt for the \\nstated amount\\n, update your \\npolicy annually to make sure that the amount \\nwill cover the cost of replacing your mobile \\nhome. Check with local mobile home dealers \\n to ˜nd out what similar homes now sell for. \\nPolicy limits\\nMost insurance policies provide adequate  coverage because they include an in˜ation-guard\\n clause to keep up with increases in local building costs. If you have replacement cost\\n  coverage, your insurance company will pay the full cost of repairing or replacing the damaged structure with a building of ﬁlike kind and quality.ﬂ In other words, if you were \\nadequately insured and lived in a three- bedroom ranch before the disaster, your \\n insurance company would pay to build a  similar three-bedroom ranch. Most insurance companies recommend that a dwelling be insured for 100 percent \\n of replacement cost so that you have enough money to rebuild if your home is totally  destroyed. You may not be fully covered, how-ever, if you have made significant improvements on your house, such as enclosing a porch to create anoth-er room or expanding your kitchen, without informing your insurance company of the changes at the time. Temporary living expenses \\nIf you can™t live in your home because of the \\ndamage, your insurance company will advance you money to pay for reasonable additional living expenses. The amount available to pay for such expenses is generally equal to 20 percent of the insurance on your home. This \\namount is in addition to the money for repairs or to rebuild your home. Some insurance companies pay more than 20 percent. Others \\nlimit additional living expenses to the amount spent during a certain period of time. Among the items typically covered are eating out, rent, telephone or utility installa-tion costs in a temporary residence and extra \\ntransportation costs. Insurance policies often discuss additional living expenses under the heading loss of use.76',\n",
       " 'Rebuilding and \\nmaking repairs\\nIf your home was destroyed, you have several options. You can rebuild a new home on the \\n same site.  Depending on state law, you can sell the \\nland and build or buy a house in a differ-ent place, even another state.  You can decide that you would rather rent.\\nIf you decide not to rebuild, the settlement amount depends on state law, what the courts \\nhave said about this matter and the kind of policy you have. Find out from your insurance agent or company representative what the settlement amount will be based on. Concerning repairs, if you downgrade, for example, replace an expensive wood ˚oor with one using a cheaper product, you are not entitled to the difference in cash. Other factors\\nCompliance with current building codes: \\nBuilding codes require structures to be built to certain minimum standards. In areas likely to be hit by hurricanes, for example, build-ings must be able to withstand high winds. If your home was damaged and it was not in compliance with current local building codes, you may have to rebuild the damaged sections according to current codes.In some cases, complying with the code may require a change in design or building materials and may cost more. Generally, \\n homeowners insurance policies won™t pay for \\nthese extra costs, but insurance companies offer an endorsement that pays a speci˜ed amount toward such changes. (An endorsement \\nis an addition to an insurance policy that changes what the policy covers.) Information concerning this coverage is found under  ordinance or law\\n in the Section I exclusion  part of your policy. \\nThe use of public adjusters: Your insurance \\ncompany provides an adjuster at no charge. You also may be contacted by adjusters who \\nhave no relationship with your insurance  company and charge a fee for their services. \\nThey are known as public adjusters. If you  decide to use a public adjuster to help you in settling your claim, this service could cost you \\nas much as 15 percent of the total value of \\nyour settlement. Sometimes after a disaster, \\n the percentage that public adjusters may \\ncharge is set by the insurance department.  If you do decide to use a public adjuster, ˜rst \\ncheck references and quali˜cations by contact-ing the Better Business Bureau and your  state insurance department (See back cover  for contact information). Also contact the  National Association of Independent Insurance \\nAdjusters (www.naiia.com). \\nCompensation for Damage\\nVehicles\\n: If your car was damaged and you have comprehensive coverage in your auto insurance policy, contact your auto insurance \\ncompany. If your car has been so badly dam\\n-aged that it™s not worth repairing, you will \\nreceive a check for the car™s actual cash valueŠ\\nwhat it would have been worth if it had been 98',\n",
       " 'sold just before the disaster. Kelley Blue Book \\n(www.kbb.com) or other such publications can \\ngive you an idea of what your car was worth.Trees and shrubbery:\\n Most insurance com-panies will pay up to $500 for the removal of trees or shrubs that have fallen on your home. They will also pay for damage caused to insured structures and their contents up to policy limits, but they won™t pay to remove \\ntrees that have fallen causing a mess in  your yard. Water:\\n While homeowners policies don™t \\ncover ˚ood damage, they cover other kinds of water damage. For example, they will gener-ally pay for damage from rain coming through a hole in the roof or a broken window as long as the hole was caused by a hurricane or other disaster covered by the policy. If there is water \\ndamage, check with your agent or insurance company representative as to whether it is covered.The Payment \\n Process\\nDisasters can make enormous demands on  insurance company personnel. Sometimes  after a major disaster, state of˜cials ask \\n insurance company adjusters to see everyone \\nwho has ˜led a claim before a certain date. When there are a huge number of claims, the deadline may force some to make a rough ˜rst \\nestimate. If the ˜rst evaluation is not complete, \\nset up an appointment for a second visit. The ˜rst check you get from your insurance com-pany is often an advance. If you™re offered an on-the-spot settlement, you can accept the check right away. Later on, if you ˜nd other \\ndamage, you can ﬁreopenﬂ the claim and ˜le for an additional amount. Most policies require claims to be filed within one year from the date of the disaster. Some insurance companies may require you to ˜ll out and sign a proof of loss\\n form. This formal statement provides details of your losses and the amount of money you™re claim-ing and acts as a legal record. Some companies \\n waive this requirement after a disaster if you™ve met with the adjuster, especially if \\n your claim is not complicated.The choice of repair ˜rms is yours. If your home was adequately insured, you won™t \\n1110',\n",
       " 'have to settle for anything less than you had before the disaster. Be sure the contractor is \\ngiving you the same quality materials. Don™t \\nget permanent repairs done until after the adjuster has approved the price. If you™ve received bids, show them to the adjuster. If \\nthe adjuster agrees with one of your bids, then the repair process can begin. If the bids are too high, ask the adjuster to negotiate a better price with the contractor. Adjusters may also \\nrecommend ˜rms that they have worked with before. Some insurance companies even guar-antee the work of ˜rms they recommend, but such programs are not available everywhere. \\nMake sure contactors get the proper building permits.If you can™t reach an agreement with your \\ninsurance company: If you and the insurer™s \\nadjuster can™t agree on a settlement amount, \\ncontact your agent or your insurance com-pany™s claims department manager. Make \\nsure you have ˜gures to back up your claim for more money. If you and your insurance \\ncompany still disagree, your policy allows for an independent appraisal of the loss. In this case, both you and your insurance company hire independent appraisers who choose a mediator. The decision of any two of these \\nthree people is binding. You and your insur\\n-ance company each pay for your appraiser and share the other costs. However, disputes rarely \\nget to this stage.Some insurance companies may offer a slightly different way of settling a dispute called arbitration. When settlement differences are arbitrated, a neutral arbiter hears the arguments of both sides and then makes a ˜nal decision.How you receive the money: When both the dwelling and the contents of your home are \\ndamaged, you generally get two separate checks \\nfrom your insurance company. If your home \\nis mortgaged, the check for home repairs will generally be made out to you and the mortgage lender. As a condition of granting \\na mortgage, lenders usually require that they are named in the homeowners policy and that they are a party to any insurance payments related to the structure. The lender gets equal rights to the insurance check to ensure that the necessary repairs are made to the property \\nin which it has a signi˜cant ˜nancial interest. This means that the mortgage company  or bank will have to endorse the check.  Lenders generally put the money in an escrow account and pay for the repairs as the work is completed. You should show the mortgage lender \\nyour contractor™s bid and say how much the \\ncontractor wants up front to start the job. Your mortgage company may want to inspect \\nthe ˜nished job before releasing the funds for payment. If you don™t get a separate check \\nfrom your insurance company for the contents of your home and other expenses, the lender should release the insurance payments that don™t relate to the dwelling. It should also \\nrelease funds that exceed the balance of the mortgage. State bank regulators often publish guidelines for banks to follow after a major disaster. Contact state regulatory of˜ces to ˜nd \\nout what these guidelines are. 1312',\n",
       " 'Important Phone Numbers\\nSome construction ˜rms want you to sign a direction to pay\\n form that allows your insurance company to pay the ˜rm directly. \\nThe ˜rm then will bill your insurance com-pany directly and attach the form you signed. Make certain that you™re completely satis˜ed with the repair work and that the job has been completed before signing any forms. If you have a replacement cost\\n policy for your personal possessions, you normally need to replace the damaged items before your insurance company will pay. If you decide not \\nto replace some items, you will be paid their actual cash value. Your insurance company \\nwill generally allow you several months from the date of the cash value payment to replace the items and collect full replacement cost. Find out how many months you are allowed. Some insurance companies supply lists of ven-dors that can help replace your property. Some \\ncompanies may supply some replacement items themselves.After your claim has been settled and the repair work is underway: \\nTake the time \\n to re-evaluate your homeowners insurance coverage. For example, was your home  adequately insured? Did you have replacement \\ncost coverage for your personal property?  Talk to your insurance agent or company \\n representative about possible changes.Consider taking a home inventory to \\nmake the claims process easier in the future. The Insurance Information Institute offers free downloadable home inventory software at \\nwww.KnowYourStuff.org.\\n1514',\n",
       " '110 William StreetNY, NY 10038www.iii.orgState Insurance Departments \\nAK 907-269-7900 www.dced.state.ak.us/insurance\\nAL 334-269-3550 www.aldoi.org\\nAR 501-371-2600 insurance.arkansas.gov\\nAZ 602-364-3100 www.id.state.az.us\\nCA 800-927-4357 www.insurance.ca.gov\\nCO 303-894-7499 www.dora.state.co.us/insurance\\nCT 860-297-3800 www.ct.gov/cid/site/default.asp\\nDC 202-727-8000 www.disb.dc.gov/disr/site/default.asp\\nDE 302-674-7300 www.delawareinsurance.gov\\nFL 850-413-3140 www.floir.com\\nGA 404-656-2070 www.gainsurance.org\\nHI 808-586-2790 hawaii.gov/dcca/areas/ins\\nIA 515-281-5705 www.iid.state.ia.us\\nIL 217-782-4515 www.doi.state.id.us\\nIN 317-232-2385 www.in.gov/idoi\\nID 208-334-4250 www.doi.state.id.us\\nKS 785-296-3071 www.ksinsurance.org\\nKY 800-595-6053 doi.ppr.ky.gov/kentucky\\nLA 225-342-5900 www.ldi.la.gov\\nMA 617-973-8700 www.state.ma.us/doi\\nMD 410-468-2000 www.mdinsurance.state.md.us/sa/jsp/Mia.jsp\\nME 207-624-8475 www.maine.gov/pfr/insurance\\nMI 517-335-4978 www.michigan.gov/ofis\\nMN 651-296-2488 www.commerce.state.mn.us\\nMO 573-751-4126 insurance.mo.gov\\nMS 601-359-3569 www.mid.state.ms.us\\nMT 406-444-2040 sao.mt.gov/insurance/index.asp\\nNC 919-807-6750 www.ncdoi.com\\nND 701-328-2440 www.nd.gov/ndins\\nNE 402-471-2201 www.doi.ne.gov\\nNH 603-271-2261 www.nh.gov/insurance\\nNJ 800-446-7467 www.state.nj.us/dobi/index.html\\nNM 505-827-4601 www.nmprc.state.nm/id.htm\\nNV 775-687-4270 doi.state.nv.us\\nNY 800-342-3736 www.ins.state.ny.us\\nOH 614-644-2658 www.ohioinsurance.gov\\nOK 405-521-2828 www.ok.gov/oid\\nOR 503-947-7980 www.cbs.state.or.us/external/ins\\nPA 717-787-2317 www.ins.state.pa.us/ins/site/default.asp\\nPR 787-722-8686 www.ocs.gobierno.pr/ocspr\\nRI 401-462-9500 www.dbr.state.ri.us\\nSC 803-737-6160 www.doi.sc.gov\\nSD 605-773-3563 www.state.sd.us/drr2/reg/insurance\\nTN 615-741-2241 www.state.tn.us/commerce\\nTX 800-252-3439 www.tdi.state.tx.us\\nUT 801-538-3800 www.insurance.utah.gov\\nVA 804-371-9741 www.scc.virginia.gov/division/boi\\nVT 802-828-3301 www.bishca.state.vt.us\\nWA 360-725-7080 www.insurance.wa.gov\\nWI 800-236-8517 www.oci.wi.gov\\nWV 304-558-3354 www.wvinsurance.gov\\nWY 307-777-7401 insurance.state.wy.us\\n']"
      ]
     },
     "execution_count": 30,
     "metadata": {},
     "output_type": "execute_result"
    }
   ],
   "source": [
    "pdf_text"
   ]
  },
  {
   "cell_type": "code",
   "execution_count": 31,
   "id": "43adfb37",
   "metadata": {},
   "outputs": [
    {
     "data": {
      "text/plain": [
       "9"
      ]
     },
     "execution_count": 31,
     "metadata": {},
     "output_type": "execute_result"
    }
   ],
   "source": [
    "len(pdf_text)"
   ]
  },
  {
   "cell_type": "code",
   "execution_count": 32,
   "id": "fcf20362",
   "metadata": {},
   "outputs": [
    {
     "name": "stdout",
     "output_type": "stream",
     "text": [
      "Settling \n",
      "Insurance\n",
      " Claims \n",
      "After a \n",
      " Disaster\n",
      "What you need to know about\n",
      "Ł how to ˜le a claim\n",
      "Ł how the claim process works\n",
      "Ł what™s covered and what™s not\n",
      "\n",
      "\n",
      "\n",
      "\n",
      "\n",
      "\n",
      "\n",
      "\n",
      "\n",
      "\n",
      "\n",
      "\n",
      "\n",
      "\n",
      "\n",
      "If you need to relocate, \n",
      "keep your receipts \n",
      "If you need to ˜nd other accommodations while your home is being repaired, keep records of your expenses. Homeowners insur-ance policies provide coverage for the cost of additional living expenses if your home is damaged by an insured disaster.\n",
      "Prepare for the \n",
      "adjuster™s visits \n",
      "Your insurance company may send you a \n",
      " proof of loss\n",
      " form to complete or an adjuster may visit your home ˜rst. (An adjuster is a  person professionally trained to assess the damage.) In either case, the more information you have about your damaged possessionsŠ a description of the item, approximate date of purchase and what it would cost to replace or \n",
      "repairŠthe faster your claim generally can be settled. To substantiate your loss, prepare an \n",
      "inventory of damaged or destroyed items \n",
      "and give a copy to the adjuster along with copies of any receipts. Don™t throw out \n",
      "damaged items until the adjuster has  visited. You should also consider photo-\n",
      "graphing or videotaping the damage. If your property was destroyed or you no longer have any records, work from memory. \n",
      "First\n",
      "Steps\n",
      "Contact your agent or company \n",
      "immediately. Find out\n",
      "  Whether the damage is covered under the terms of your policy  how long you have to ˜le a claim  whether your claim exceeds your deduct-ible (the amount of loss you agree to pay before insurance kicks in)  how long it will take to process the claim  whether you™ll need estimates for repairsMake temporary repairs\n",
      " Take reasonable steps to protect your property \n",
      "from further damage. Save receipts for what you spend and submit them to your insurance company for reimbursement. Remember that payments for temporary repairs are part of \n",
      "the total settlement. So if you pay a contrac-tor a large sum for a temporary repair job, you \n",
      "may not have enough money for permanent repairs. Beware of contractors who ask for a large amount of money up front and contrac-tors whose bids are very lowŠthey might \n",
      "cut corners and do shabby work. Don™t make \n",
      "extensive permanent repairs until the claims adjuster has assessed the damage. 32\n",
      "\n",
      "\n",
      "\n",
      "\n",
      "\n",
      "\n",
      "\n",
      "\n",
      "\n",
      "\n",
      "\n",
      "\n",
      "\n",
      "\n",
      "Factors that Determine the Amount of  Settlement  You Get Identify structural damage to your home and other structures such as a garage, tool shed or in-ground swimming pool. Make a list of everything you want to show the \n",
      "adjuster, for example, cracks in the walls \n",
      "and missing roof tiles. You should also get \n",
      "the electrical system checked. Most insur-ance companies pay for these inspections.  Get written bids from licensed contractors. The bids should include details of the  materials to be used and prices on a line-by-line basis. This makes adjusting the claim faster and simpler. \n",
      " Keep copies of the lists and other docu-ments you submit to your insurance  company. Also keep copies of whatever \n",
      "paperwork your insurance company gives \n",
      "you and record the names and phone numbers of everyone you speak to.\n",
      "Flood damage is excluded under standard homeowners and renters insurance policies. Flood coverage, however, is available as a separate \n",
      "policy from the federal government™s \n",
      "National Flood Insurance Program (NFIP) and from a few private insur-ers. The NFIP provides coverage up to $250,000 for the structure of the home and $100,000 for personal possessions. Flood insurance claims should be ˜led with your homeowners insurance company.\n",
      "Factors That \n",
      " Determine \n",
      " the Amount of \n",
      " Settlement \n",
      "You Get\n",
      "Type of Policy\n",
      "Replacement Cost and Actual Cash Value:\n",
      " Replacement cost policies provides you with the dollar amount needed to replace a damaged item with one of similar kind and quality without deducting for depreciation (the decrease in value due to age, wear and tear, and other factors). \n",
      " Actual cash value policies pay the amount needed to replace the item minus depreciation. Suppose, for example, a tree fell through the roof onto your eight-year-old washing  machine. With a \n",
      "replacement cost\n",
      " policy, the \n",
      "insurance company would pay to replace the old machine with a new one. If you had an actual cash value policy, the company would pay only \n",
      "a part of the cost of a new washing machine because a machine that has been used for eight years is worth less than its original cost.Extended and Guaranteed Replacement Cost: If your home is damaged beyond repair, a typical \n",
      "homeowners policy will pay to replace it up to the limits of the policy. If the value of your insur\n",
      "-ance policy has kept up with increases in local building costs, a similar dwelling can generally be built for an amount within the policy limits.54\n",
      "\n",
      "\n",
      "\n",
      "\n",
      "\n",
      "\n",
      "\n",
      "\n",
      "\n",
      "\n",
      "\n",
      "\n",
      "\n",
      "\n",
      "With an \n",
      "extended replacement cost\n",
      " policy your insurer will pay a certain percentage over \n",
      "the limit to rebuild your homeŠ20 percent \n",
      " or more, depending on the insurerŠso that  if building costs go up unexpectedly, you \n",
      " will have extra funds to cover the bill. A few insurance companies offer a guaranteed  replacement\n",
      " cost policy that pays whatever it costs to rebuild your home as it was before the disaster. But neither type of policy will pay for \n",
      "more expensive materials than those that were used in the structure that was destroyed.Mobile Home, Stated Amount:\n",
      " If you own a \n",
      "mobile home, you may have a \n",
      "stated amount \n",
      "policy. With this policy, the maximum amount \n",
      "you receive if your home is destroyed is the \n",
      "sum you agreed to when the policy was issued. \n",
      "If you opt for the \n",
      "stated amount\n",
      ", update your \n",
      "policy annually to make sure that the amount \n",
      "will cover the cost of replacing your mobile \n",
      "home. Check with local mobile home dealers \n",
      " to ˜nd out what similar homes now sell for. \n",
      "Policy limits\n",
      "Most insurance policies provide adequate  coverage because they include an in˜ation-guard\n",
      " clause to keep up with increases in local building costs. If you have replacement cost\n",
      "  coverage, your insurance company will pay the full cost of repairing or replacing the damaged structure with a building of ﬁlike kind and quality.ﬂ In other words, if you were \n",
      "adequately insured and lived in a three- bedroom ranch before the disaster, your \n",
      " insurance company would pay to build a  similar three-bedroom ranch. Most insurance companies recommend that a dwelling be insured for 100 percent \n",
      " of replacement cost so that you have enough money to rebuild if your home is totally  destroyed. You may not be fully covered, how-ever, if you have made significant improvements on your house, such as enclosing a porch to create anoth-er room or expanding your kitchen, without informing your insurance company of the changes at the time. Temporary living expenses \n",
      "If you can™t live in your home because of the \n",
      "damage, your insurance company will advance you money to pay for reasonable additional living expenses. The amount available to pay for such expenses is generally equal to 20 percent of the insurance on your home. This \n",
      "amount is in addition to the money for repairs or to rebuild your home. Some insurance companies pay more than 20 percent. Others \n",
      "limit additional living expenses to the amount spent during a certain period of time. Among the items typically covered are eating out, rent, telephone or utility installa-tion costs in a temporary residence and extra \n",
      "transportation costs. Insurance policies often discuss additional living expenses under the heading loss of use.76\n",
      "\n",
      "\n",
      "\n",
      "\n",
      "\n",
      "\n",
      "\n",
      "\n",
      "\n",
      "\n",
      "\n",
      "\n",
      "\n",
      "\n",
      "Rebuilding and \n",
      "making repairs\n",
      "If your home was destroyed, you have several options. You can rebuild a new home on the \n",
      " same site.  Depending on state law, you can sell the \n",
      "land and build or buy a house in a differ-ent place, even another state.  You can decide that you would rather rent.\n",
      "If you decide not to rebuild, the settlement amount depends on state law, what the courts \n",
      "have said about this matter and the kind of policy you have. Find out from your insurance agent or company representative what the settlement amount will be based on. Concerning repairs, if you downgrade, for example, replace an expensive wood ˚oor with one using a cheaper product, you are not entitled to the difference in cash. Other factors\n",
      "Compliance with current building codes: \n",
      "Building codes require structures to be built to certain minimum standards. In areas likely to be hit by hurricanes, for example, build-ings must be able to withstand high winds. If your home was damaged and it was not in compliance with current local building codes, you may have to rebuild the damaged sections according to current codes.In some cases, complying with the code may require a change in design or building materials and may cost more. Generally, \n",
      " homeowners insurance policies won™t pay for \n",
      "these extra costs, but insurance companies offer an endorsement that pays a speci˜ed amount toward such changes. (An endorsement \n",
      "is an addition to an insurance policy that changes what the policy covers.) Information concerning this coverage is found under  ordinance or law\n",
      " in the Section I exclusion  part of your policy. \n",
      "The use of public adjusters: Your insurance \n",
      "company provides an adjuster at no charge. You also may be contacted by adjusters who \n",
      "have no relationship with your insurance  company and charge a fee for their services. \n",
      "They are known as public adjusters. If you  decide to use a public adjuster to help you in settling your claim, this service could cost you \n",
      "as much as 15 percent of the total value of \n",
      "your settlement. Sometimes after a disaster, \n",
      " the percentage that public adjusters may \n",
      "charge is set by the insurance department.  If you do decide to use a public adjuster, ˜rst \n",
      "check references and quali˜cations by contact-ing the Better Business Bureau and your  state insurance department (See back cover  for contact information). Also contact the  National Association of Independent Insurance \n",
      "Adjusters (www.naiia.com). \n",
      "Compensation for Damage\n",
      "Vehicles\n",
      ": If your car was damaged and you have comprehensive coverage in your auto insurance policy, contact your auto insurance \n",
      "company. If your car has been so badly dam\n",
      "-aged that it™s not worth repairing, you will \n",
      "receive a check for the car™s actual cash valueŠ\n",
      "what it would have been worth if it had been 98\n",
      "\n",
      "\n",
      "\n",
      "\n",
      "\n",
      "\n",
      "\n",
      "\n",
      "\n",
      "\n",
      "\n",
      "\n",
      "\n",
      "\n",
      "sold just before the disaster. Kelley Blue Book \n",
      "(www.kbb.com) or other such publications can \n",
      "give you an idea of what your car was worth.Trees and shrubbery:\n",
      " Most insurance com-panies will pay up to $500 for the removal of trees or shrubs that have fallen on your home. They will also pay for damage caused to insured structures and their contents up to policy limits, but they won™t pay to remove \n",
      "trees that have fallen causing a mess in  your yard. Water:\n",
      " While homeowners policies don™t \n",
      "cover ˚ood damage, they cover other kinds of water damage. For example, they will gener-ally pay for damage from rain coming through a hole in the roof or a broken window as long as the hole was caused by a hurricane or other disaster covered by the policy. If there is water \n",
      "damage, check with your agent or insurance company representative as to whether it is covered.The Payment \n",
      " Process\n",
      "Disasters can make enormous demands on  insurance company personnel. Sometimes  after a major disaster, state of˜cials ask \n",
      " insurance company adjusters to see everyone \n",
      "who has ˜led a claim before a certain date. When there are a huge number of claims, the deadline may force some to make a rough ˜rst \n",
      "estimate. If the ˜rst evaluation is not complete, \n",
      "set up an appointment for a second visit. The ˜rst check you get from your insurance com-pany is often an advance. If you™re offered an on-the-spot settlement, you can accept the check right away. Later on, if you ˜nd other \n",
      "damage, you can ﬁreopenﬂ the claim and ˜le for an additional amount. Most policies require claims to be filed within one year from the date of the disaster. Some insurance companies may require you to ˜ll out and sign a proof of loss\n",
      " form. This formal statement provides details of your losses and the amount of money you™re claim-ing and acts as a legal record. Some companies \n",
      " waive this requirement after a disaster if you™ve met with the adjuster, especially if \n",
      " your claim is not complicated.The choice of repair ˜rms is yours. If your home was adequately insured, you won™t \n",
      "1110\n",
      "\n",
      "\n",
      "\n",
      "\n",
      "\n",
      "\n",
      "\n",
      "\n",
      "\n",
      "\n",
      "\n",
      "\n",
      "\n",
      "\n",
      "have to settle for anything less than you had before the disaster. Be sure the contractor is \n",
      "giving you the same quality materials. Don™t \n",
      "get permanent repairs done until after the adjuster has approved the price. If you™ve received bids, show them to the adjuster. If \n",
      "the adjuster agrees with one of your bids, then the repair process can begin. If the bids are too high, ask the adjuster to negotiate a better price with the contractor. Adjusters may also \n",
      "recommend ˜rms that they have worked with before. Some insurance companies even guar-antee the work of ˜rms they recommend, but such programs are not available everywhere. \n",
      "Make sure contactors get the proper building permits.If you can™t reach an agreement with your \n",
      "insurance company: If you and the insurer™s \n",
      "adjuster can™t agree on a settlement amount, \n",
      "contact your agent or your insurance com-pany™s claims department manager. Make \n",
      "sure you have ˜gures to back up your claim for more money. If you and your insurance \n",
      "company still disagree, your policy allows for an independent appraisal of the loss. In this case, both you and your insurance company hire independent appraisers who choose a mediator. The decision of any two of these \n",
      "three people is binding. You and your insur\n",
      "-ance company each pay for your appraiser and share the other costs. However, disputes rarely \n",
      "get to this stage.Some insurance companies may offer a slightly different way of settling a dispute called arbitration. When settlement differences are arbitrated, a neutral arbiter hears the arguments of both sides and then makes a ˜nal decision.How you receive the money: When both the dwelling and the contents of your home are \n",
      "damaged, you generally get two separate checks \n",
      "from your insurance company. If your home \n",
      "is mortgaged, the check for home repairs will generally be made out to you and the mortgage lender. As a condition of granting \n",
      "a mortgage, lenders usually require that they are named in the homeowners policy and that they are a party to any insurance payments related to the structure. The lender gets equal rights to the insurance check to ensure that the necessary repairs are made to the property \n",
      "in which it has a signi˜cant ˜nancial interest. This means that the mortgage company  or bank will have to endorse the check.  Lenders generally put the money in an escrow account and pay for the repairs as the work is completed. You should show the mortgage lender \n",
      "your contractor™s bid and say how much the \n",
      "contractor wants up front to start the job. Your mortgage company may want to inspect \n",
      "the ˜nished job before releasing the funds for payment. If you don™t get a separate check \n",
      "from your insurance company for the contents of your home and other expenses, the lender should release the insurance payments that don™t relate to the dwelling. It should also \n",
      "release funds that exceed the balance of the mortgage. State bank regulators often publish guidelines for banks to follow after a major disaster. Contact state regulatory of˜ces to ˜nd \n",
      "out what these guidelines are. 1312\n",
      "\n",
      "\n",
      "\n",
      "\n",
      "\n",
      "\n",
      "\n",
      "\n",
      "\n",
      "\n",
      "\n",
      "\n",
      "\n",
      "\n",
      "Important Phone Numbers\n",
      "Some construction ˜rms want you to sign a direction to pay\n",
      " form that allows your insurance company to pay the ˜rm directly. \n",
      "The ˜rm then will bill your insurance com-pany directly and attach the form you signed. Make certain that you™re completely satis˜ed with the repair work and that the job has been completed before signing any forms. If you have a replacement cost\n",
      " policy for your personal possessions, you normally need to replace the damaged items before your insurance company will pay. If you decide not \n",
      "to replace some items, you will be paid their actual cash value. Your insurance company \n",
      "will generally allow you several months from the date of the cash value payment to replace the items and collect full replacement cost. Find out how many months you are allowed. Some insurance companies supply lists of ven-dors that can help replace your property. Some \n",
      "companies may supply some replacement items themselves.After your claim has been settled and the repair work is underway: \n",
      "Take the time \n",
      " to re-evaluate your homeowners insurance coverage. For example, was your home  adequately insured? Did you have replacement \n",
      "cost coverage for your personal property?  Talk to your insurance agent or company \n",
      " representative about possible changes.Consider taking a home inventory to \n",
      "make the claims process easier in the future. The Insurance Information Institute offers free downloadable home inventory software at \n",
      "www.KnowYourStuff.org.\n",
      "1514\n",
      "\n",
      "\n",
      "\n",
      "\n",
      "\n",
      "\n",
      "\n",
      "\n",
      "\n",
      "\n",
      "\n",
      "\n",
      "\n",
      "\n",
      "110 William StreetNY, NY 10038www.iii.orgState Insurance Departments \n",
      "AK 907-269-7900 www.dced.state.ak.us/insurance\n",
      "AL 334-269-3550 www.aldoi.org\n",
      "AR 501-371-2600 insurance.arkansas.gov\n",
      "AZ 602-364-3100 www.id.state.az.us\n",
      "CA 800-927-4357 www.insurance.ca.gov\n",
      "CO 303-894-7499 www.dora.state.co.us/insurance\n",
      "CT 860-297-3800 www.ct.gov/cid/site/default.asp\n",
      "DC 202-727-8000 www.disb.dc.gov/disr/site/default.asp\n",
      "DE 302-674-7300 www.delawareinsurance.gov\n",
      "FL 850-413-3140 www.floir.com\n",
      "GA 404-656-2070 www.gainsurance.org\n",
      "HI 808-586-2790 hawaii.gov/dcca/areas/ins\n",
      "IA 515-281-5705 www.iid.state.ia.us\n",
      "IL 217-782-4515 www.doi.state.id.us\n",
      "IN 317-232-2385 www.in.gov/idoi\n",
      "ID 208-334-4250 www.doi.state.id.us\n",
      "KS 785-296-3071 www.ksinsurance.org\n",
      "KY 800-595-6053 doi.ppr.ky.gov/kentucky\n",
      "LA 225-342-5900 www.ldi.la.gov\n",
      "MA 617-973-8700 www.state.ma.us/doi\n",
      "MD 410-468-2000 www.mdinsurance.state.md.us/sa/jsp/Mia.jsp\n",
      "ME 207-624-8475 www.maine.gov/pfr/insurance\n",
      "MI 517-335-4978 www.michigan.gov/ofis\n",
      "MN 651-296-2488 www.commerce.state.mn.us\n",
      "MO 573-751-4126 insurance.mo.gov\n",
      "MS 601-359-3569 www.mid.state.ms.us\n",
      "MT 406-444-2040 sao.mt.gov/insurance/index.asp\n",
      "NC 919-807-6750 www.ncdoi.com\n",
      "ND 701-328-2440 www.nd.gov/ndins\n",
      "NE 402-471-2201 www.doi.ne.gov\n",
      "NH 603-271-2261 www.nh.gov/insurance\n",
      "NJ 800-446-7467 www.state.nj.us/dobi/index.html\n",
      "NM 505-827-4601 www.nmprc.state.nm/id.htm\n",
      "NV 775-687-4270 doi.state.nv.us\n",
      "NY 800-342-3736 www.ins.state.ny.us\n",
      "OH 614-644-2658 www.ohioinsurance.gov\n",
      "OK 405-521-2828 www.ok.gov/oid\n",
      "OR 503-947-7980 www.cbs.state.or.us/external/ins\n",
      "PA 717-787-2317 www.ins.state.pa.us/ins/site/default.asp\n",
      "PR 787-722-8686 www.ocs.gobierno.pr/ocspr\n",
      "RI 401-462-9500 www.dbr.state.ri.us\n",
      "SC 803-737-6160 www.doi.sc.gov\n",
      "SD 605-773-3563 www.state.sd.us/drr2/reg/insurance\n",
      "TN 615-741-2241 www.state.tn.us/commerce\n",
      "TX 800-252-3439 www.tdi.state.tx.us\n",
      "UT 801-538-3800 www.insurance.utah.gov\n",
      "VA 804-371-9741 www.scc.virginia.gov/division/boi\n",
      "VT 802-828-3301 www.bishca.state.vt.us\n",
      "WA 360-725-7080 www.insurance.wa.gov\n",
      "WI 800-236-8517 www.oci.wi.gov\n",
      "WV 304-558-3354 www.wvinsurance.gov\n",
      "WY 307-777-7401 insurance.state.wy.us\n",
      "\n",
      "\n",
      "\n",
      "\n",
      "\n",
      "\n",
      "\n",
      "\n",
      "\n",
      "\n",
      "\n",
      "\n",
      "\n",
      "\n",
      "\n"
     ]
    }
   ],
   "source": [
    "for Page in pdf_text:\n",
    "    print(Page)\n",
    "    print('\\n')\n",
    "    print('\\n')    \n",
    "    print('\\n')\n",
    "    print('\\n')  \n",
    "    print('\\n')        \n",
    "    print('\\n')        \n",
    "    print('\\n')        "
   ]
  },
  {
   "cell_type": "code",
   "execution_count": null,
   "id": "87eebb0a",
   "metadata": {},
   "outputs": [],
   "source": []
  },
  {
   "cell_type": "code",
   "execution_count": null,
   "id": "59390673",
   "metadata": {},
   "outputs": [],
   "source": []
  }
 ],
 "metadata": {
  "kernelspec": {
   "display_name": "Python 3",
   "language": "python",
   "name": "python3"
  },
  "language_info": {
   "codemirror_mode": {
    "name": "ipython",
    "version": 3
   },
   "file_extension": ".py",
   "mimetype": "text/x-python",
   "name": "python",
   "nbconvert_exporter": "python",
   "pygments_lexer": "ipython3",
   "version": "3.8.8"
  }
 },
 "nbformat": 4,
 "nbformat_minor": 5
}
