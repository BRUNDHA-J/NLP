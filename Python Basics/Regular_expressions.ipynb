{
 "cells": [
  {
   "cell_type": "markdown",
   "id": "f759e98f",
   "metadata": {},
   "source": [
    "## REGULAR EXPRESSION\n",
    "Every character type has a corresponding pattern code.\n",
    "Digits have the place holder pattern code of \\d\n",
    "The use of a backslash allows python to understand that it is a special code and not the letter \"d\"\n"
   ]
  },
  {
   "cell_type": "code",
   "execution_count": 1,
   "id": "b52b087d",
   "metadata": {},
   "outputs": [],
   "source": [
    "text = \"The phone number is 488-256-4586. call soon!\""
   ]
  },
  {
   "cell_type": "code",
   "execution_count": 2,
   "id": "1d1c093f",
   "metadata": {},
   "outputs": [
    {
     "data": {
      "text/plain": [
       "True"
      ]
     },
     "execution_count": 2,
     "metadata": {},
     "output_type": "execute_result"
    }
   ],
   "source": [
    "\"phone\" in text"
   ]
  },
  {
   "cell_type": "code",
   "execution_count": 3,
   "id": "6e670598",
   "metadata": {},
   "outputs": [
    {
     "data": {
      "text/plain": [
       "False"
      ]
     },
     "execution_count": 3,
     "metadata": {},
     "output_type": "execute_result"
    }
   ],
   "source": [
    "\"phones\" in text"
   ]
  },
  {
   "cell_type": "code",
   "execution_count": 4,
   "id": "553add8b",
   "metadata": {},
   "outputs": [
    {
     "data": {
      "text/plain": [
       "True"
      ]
     },
     "execution_count": 4,
     "metadata": {},
     "output_type": "execute_result"
    }
   ],
   "source": [
    "\"488-256-4586\" in text"
   ]
  },
  {
   "cell_type": "code",
   "execution_count": 5,
   "id": "fdf12f8c",
   "metadata": {},
   "outputs": [
    {
     "data": {
      "text/plain": [
       "False"
      ]
     },
     "execution_count": 5,
     "metadata": {},
     "output_type": "execute_result"
    }
   ],
   "source": [
    "\"265-584-6214\" in text"
   ]
  },
  {
   "cell_type": "code",
   "execution_count": 1,
   "id": "fd222169",
   "metadata": {},
   "outputs": [],
   "source": [
    "import re # regular expression built in library "
   ]
  },
  {
   "cell_type": "code",
   "execution_count": 7,
   "id": "c3ae04f1",
   "metadata": {},
   "outputs": [],
   "source": [
    "pattern = \"phone\""
   ]
  },
  {
   "cell_type": "code",
   "execution_count": 8,
   "id": "7a52fd37",
   "metadata": {},
   "outputs": [
    {
     "data": {
      "text/plain": [
       "<re.Match object; span=(4, 9), match='phone'>"
      ]
     },
     "execution_count": 8,
     "metadata": {},
     "output_type": "execute_result"
    }
   ],
   "source": [
    "re.search(pattern,text)#re.search search for phone in text and it will return the first value if it is repeated multiple times"
   ]
  },
  {
   "cell_type": "code",
   "execution_count": 9,
   "id": "f9e4ddca",
   "metadata": {},
   "outputs": [],
   "source": [
    "mymatch = re.search(pattern,text)"
   ]
  },
  {
   "cell_type": "code",
   "execution_count": 10,
   "id": "fd39ad8b",
   "metadata": {},
   "outputs": [
    {
     "data": {
      "text/plain": [
       "(4, 9)"
      ]
     },
     "execution_count": 10,
     "metadata": {},
     "output_type": "execute_result"
    }
   ],
   "source": [
    "mymatch.span()# starting at index 4 and ending at index 9"
   ]
  },
  {
   "cell_type": "code",
   "execution_count": 29,
   "id": "dcda212a",
   "metadata": {},
   "outputs": [],
   "source": [
    "text1 = \"My Phones Battery is low\""
   ]
  },
  {
   "cell_type": "code",
   "execution_count": 33,
   "id": "c8489bfd",
   "metadata": {},
   "outputs": [],
   "source": [
    "pattern1=\"one\""
   ]
  },
  {
   "cell_type": "code",
   "execution_count": 34,
   "id": "02bc283d",
   "metadata": {},
   "outputs": [],
   "source": [
    "mymatch1= re.search(pattern1,text1)"
   ]
  },
  {
   "cell_type": "code",
   "execution_count": 37,
   "id": "80c25fca",
   "metadata": {},
   "outputs": [
    {
     "data": {
      "text/plain": [
       "(5, 8)"
      ]
     },
     "execution_count": 37,
     "metadata": {},
     "output_type": "execute_result"
    }
   ],
   "source": [
    "mymatch1.span()"
   ]
  },
  {
   "cell_type": "code",
   "execution_count": 39,
   "id": "5362798e",
   "metadata": {},
   "outputs": [
    {
     "data": {
      "text/plain": [
       "5"
      ]
     },
     "execution_count": 39,
     "metadata": {},
     "output_type": "execute_result"
    }
   ],
   "source": [
    "mymatch1.start()"
   ]
  },
  {
   "cell_type": "code",
   "execution_count": 40,
   "id": "1bc09ab2",
   "metadata": {},
   "outputs": [
    {
     "data": {
      "text/plain": [
       "8"
      ]
     },
     "execution_count": 40,
     "metadata": {},
     "output_type": "execute_result"
    }
   ],
   "source": [
    "mymatch1.end()"
   ]
  },
  {
   "cell_type": "code",
   "execution_count": 46,
   "id": "d8d56127",
   "metadata": {},
   "outputs": [
    {
     "name": "stdout",
     "output_type": "stream",
     "text": [
      "8\n",
      "one\n",
      "My Phones Battery is low\n"
     ]
    }
   ],
   "source": [
    "print(mymatch1.end())\n",
    "print(mymatch1.group())\n",
    "print(mymatch1.string)"
   ]
  },
  {
   "cell_type": "code",
   "execution_count": 2,
   "id": "e6105df5",
   "metadata": {},
   "outputs": [],
   "source": [
    "text = \"My phone Battery is low.The phone number is 488-256-4586. call soon!.Additional number is 256-854-3854\""
   ]
  },
  {
   "cell_type": "code",
   "execution_count": 62,
   "id": "bb62aa58",
   "metadata": {},
   "outputs": [],
   "source": [
    "match = re.search(pattern,text)"
   ]
  },
  {
   "cell_type": "code",
   "execution_count": 63,
   "id": "40935be9",
   "metadata": {},
   "outputs": [
    {
     "data": {
      "text/plain": [
       "<re.Match object; span=(3, 8), match='phone'>"
      ]
     },
     "execution_count": 63,
     "metadata": {},
     "output_type": "execute_result"
    }
   ],
   "source": [
    "match"
   ]
  },
  {
   "cell_type": "code",
   "execution_count": 64,
   "id": "1cbb5196",
   "metadata": {},
   "outputs": [
    {
     "data": {
      "text/plain": [
       "(3, 8)"
      ]
     },
     "execution_count": 64,
     "metadata": {},
     "output_type": "execute_result"
    }
   ],
   "source": [
    "match.span()"
   ]
  },
  {
   "cell_type": "code",
   "execution_count": 65,
   "id": "bd98ca1c",
   "metadata": {},
   "outputs": [],
   "source": [
    "all_matches = re.findall(pattern,text)"
   ]
  },
  {
   "cell_type": "code",
   "execution_count": 66,
   "id": "b554e2fc",
   "metadata": {},
   "outputs": [
    {
     "data": {
      "text/plain": [
       "['phone', 'phone']"
      ]
     },
     "execution_count": 66,
     "metadata": {},
     "output_type": "execute_result"
    }
   ],
   "source": [
    "all_matches"
   ]
  },
  {
   "cell_type": "code",
   "execution_count": 67,
   "id": "dcaae6d6",
   "metadata": {},
   "outputs": [
    {
     "data": {
      "text/plain": [
       "2"
      ]
     },
     "execution_count": 67,
     "metadata": {},
     "output_type": "execute_result"
    }
   ],
   "source": [
    "len(all_matches)"
   ]
  },
  {
   "cell_type": "code",
   "execution_count": 69,
   "id": "e2b7e909",
   "metadata": {},
   "outputs": [
    {
     "name": "stdout",
     "output_type": "stream",
     "text": [
      "(3, 8)\n",
      "(28, 33)\n"
     ]
    }
   ],
   "source": [
    "for match in re.finditer(pattern,text):\n",
    "    print(match.span())"
   ]
  },
  {
   "cell_type": "code",
   "execution_count": 70,
   "id": "b68d5b9d",
   "metadata": {},
   "outputs": [],
   "source": [
    "pattern = r\"\\d\\d\\d-\\d\\d\\d-\\d\\d\\d\\d\""
   ]
  },
  {
   "cell_type": "code",
   "execution_count": 71,
   "id": "665fb440",
   "metadata": {},
   "outputs": [],
   "source": [
    "match = re.search(pattern,text)"
   ]
  },
  {
   "cell_type": "code",
   "execution_count": 72,
   "id": "59c1ce98",
   "metadata": {},
   "outputs": [
    {
     "data": {
      "text/plain": [
       "<re.Match object; span=(44, 56), match='488-256-4586'>"
      ]
     },
     "execution_count": 72,
     "metadata": {},
     "output_type": "execute_result"
    }
   ],
   "source": [
    "match"
   ]
  },
  {
   "cell_type": "code",
   "execution_count": 73,
   "id": "b695877f",
   "metadata": {},
   "outputs": [],
   "source": [
    "match = re.findall(pattern,text)"
   ]
  },
  {
   "cell_type": "code",
   "execution_count": 74,
   "id": "56e7b525",
   "metadata": {},
   "outputs": [
    {
     "data": {
      "text/plain": [
       "['488-256-4586', '256-854-3854']"
      ]
     },
     "execution_count": 74,
     "metadata": {},
     "output_type": "execute_result"
    }
   ],
   "source": [
    "match"
   ]
  },
  {
   "cell_type": "code",
   "execution_count": 75,
   "id": "56665154",
   "metadata": {},
   "outputs": [
    {
     "name": "stdout",
     "output_type": "stream",
     "text": [
      "<re.Match object; span=(44, 56), match='488-256-4586'>\n",
      "<re.Match object; span=(90, 102), match='256-854-3854'>\n"
     ]
    }
   ],
   "source": [
    "for match in re.finditer(pattern,text):\n",
    "    print(match)"
   ]
  },
  {
   "cell_type": "markdown",
   "id": "6e1716f9",
   "metadata": {},
   "source": [
    "## Using Quantifiers"
   ]
  },
  {
   "cell_type": "code",
   "execution_count": 78,
   "id": "533b6cfa",
   "metadata": {},
   "outputs": [],
   "source": [
    "pattern = r\"\\d{3}-\\d{3}-\\d{3}\""
   ]
  },
  {
   "cell_type": "code",
   "execution_count": 79,
   "id": "91c9419a",
   "metadata": {},
   "outputs": [
    {
     "name": "stdout",
     "output_type": "stream",
     "text": [
      "<re.Match object; span=(44, 55), match='488-256-458'>\n",
      "<re.Match object; span=(90, 101), match='256-854-385'>\n"
     ]
    }
   ],
   "source": [
    "for i in re.finditer(pattern,text):\n",
    "    print(i)"
   ]
  },
  {
   "cell_type": "code",
   "execution_count": 100,
   "id": "946ecfed",
   "metadata": {},
   "outputs": [],
   "source": [
    "text = \"yesterday = 05/06/2021. today= 06/06/2021. tomorrow = 07/06/2021,file_265\""
   ]
  },
  {
   "cell_type": "code",
   "execution_count": 85,
   "id": "5c031ce5",
   "metadata": {},
   "outputs": [],
   "source": [
    "pattern = r\"\\d{2}/\\d{2}/\\d{4}\""
   ]
  },
  {
   "cell_type": "code",
   "execution_count": 86,
   "id": "8849f40a",
   "metadata": {},
   "outputs": [
    {
     "name": "stdout",
     "output_type": "stream",
     "text": [
      "<re.Match object; span=(11, 21), match='05/06/2021'>\n",
      "<re.Match object; span=(29, 39), match='06/06/2021'>\n",
      "<re.Match object; span=(52, 62), match='07/06/2021'>\n"
     ]
    }
   ],
   "source": [
    "for i in re.finditer(pattern,text):\n",
    "    print(i)"
   ]
  },
  {
   "cell_type": "code",
   "execution_count": 91,
   "id": "caa5951c",
   "metadata": {},
   "outputs": [],
   "source": [
    "p2 = r\"\\D{2,}\""
   ]
  },
  {
   "cell_type": "code",
   "execution_count": 92,
   "id": "c93c8698",
   "metadata": {},
   "outputs": [
    {
     "name": "stdout",
     "output_type": "stream",
     "text": [
      "<re.Match object; span=(0, 11), match='yesterda = '>\n",
      "<re.Match object; span=(21, 29), match='.today= '>\n",
      "<re.Match object; span=(39, 52), match='. tomorrow = '>\n"
     ]
    }
   ],
   "source": [
    "for i in re.finditer(p2,text):\n",
    "    print(i)"
   ]
  },
  {
   "cell_type": "code",
   "execution_count": 99,
   "id": "2151ae3e",
   "metadata": {},
   "outputs": [
    {
     "name": "stdout",
     "output_type": "stream",
     "text": [
      "<re.Match object; span=(9, 11), match=' ='>\n",
      "<re.Match object; span=(22, 24), match='. '>\n",
      "<re.Match object; span=(29, 31), match='= '>\n",
      "<re.Match object; span=(41, 43), match='. '>\n",
      "<re.Match object; span=(51, 53), match=' ='>\n"
     ]
    }
   ],
   "source": [
    "p3=r\"\\W{2}\"\n",
    "for i in re.finditer(p3,text):\n",
    "    print(i)"
   ]
  },
  {
   "cell_type": "code",
   "execution_count": 104,
   "id": "728639f2",
   "metadata": {},
   "outputs": [
    {
     "name": "stdout",
     "output_type": "stream",
     "text": [
      "<re.Match object; span=(65, 73), match='file_265'>\n"
     ]
    }
   ],
   "source": [
    "p3=r\"\\w{4}_\\w{3}\"\n",
    "for i in re.finditer(p3,text):\n",
    "    print(i)"
   ]
  },
  {
   "cell_type": "code",
   "execution_count": 105,
   "id": "fb93f29e",
   "metadata": {},
   "outputs": [
    {
     "name": "stdout",
     "output_type": "stream",
     "text": [
      "<re.Match object; span=(65, 73), match='file_265'>\n"
     ]
    }
   ],
   "source": [
    "p3=r\"file_\\d{3}\"\n",
    "for i in re.finditer(p3,text):\n",
    "    print(i)"
   ]
  },
  {
   "cell_type": "code",
   "execution_count": 3,
   "id": "a9401ef0",
   "metadata": {},
   "outputs": [],
   "source": [
    "text = \"My phone Battery is low.The phone number is 488-256-4586. call soon!.Additional number is 256-854-3854\""
   ]
  },
  {
   "cell_type": "code",
   "execution_count": 5,
   "id": "777faece",
   "metadata": {},
   "outputs": [
    {
     "data": {
      "text/plain": [
       "<re.Match object; span=(44, 55), match='488-256-458'>"
      ]
     },
     "execution_count": 5,
     "metadata": {},
     "output_type": "execute_result"
    }
   ],
   "source": [
    "pattern = r\"\\d{3}-\\d{3}-\\d{3}\"\n",
    "mymatch=re.search(pattern,text)\n",
    "mymatch"
   ]
  },
  {
   "cell_type": "code",
   "execution_count": 12,
   "id": "8660ad4c",
   "metadata": {},
   "outputs": [
    {
     "data": {
      "text/plain": [
       "<re.Match object; span=(44, 56), match='488-256-4586'>"
      ]
     },
     "execution_count": 12,
     "metadata": {},
     "output_type": "execute_result"
    }
   ],
   "source": [
    "pattern = r\"(\\d{3})-(\\d{3}-)(\\d{4})\"\n",
    "mymatch=re.search(pattern,text)\n",
    "mymatch"
   ]
  },
  {
   "cell_type": "code",
   "execution_count": 13,
   "id": "4a7cfaaa",
   "metadata": {},
   "outputs": [
    {
     "name": "stdout",
     "output_type": "stream",
     "text": [
      "488\n",
      "256-\n",
      "4586\n"
     ]
    }
   ],
   "source": [
    "print(mymatch.group(1))\n",
    "print(mymatch.group(2))\n",
    "print(mymatch.group(3))"
   ]
  },
  {
   "cell_type": "code",
   "execution_count": 14,
   "id": "ab39717e",
   "metadata": {},
   "outputs": [
    {
     "data": {
      "text/plain": [
       "'488-256-4586'"
      ]
     },
     "execution_count": 14,
     "metadata": {},
     "output_type": "execute_result"
    }
   ],
   "source": [
    "mymatch.group()"
   ]
  },
  {
   "cell_type": "markdown",
   "id": "0c1ed2f5",
   "metadata": {},
   "source": [
    "## using pipe character (|)"
   ]
  },
  {
   "cell_type": "code",
   "execution_count": 17,
   "id": "403ed0b3",
   "metadata": {},
   "outputs": [
    {
     "data": {
      "text/plain": [
       "<re.Match object; span=(5, 10), match='woman'>"
      ]
     },
     "execution_count": 17,
     "metadata": {},
     "output_type": "execute_result"
    }
   ],
   "source": [
    "re.search(r\"man|woman\",\"This woman came yesterday\")"
   ]
  },
  {
   "cell_type": "markdown",
   "id": "c2f16e69",
   "metadata": {},
   "source": [
    "### Using wild card"
   ]
  },
  {
   "cell_type": "code",
   "execution_count": 18,
   "id": "37d559d4",
   "metadata": {},
   "outputs": [
    {
     "data": {
      "text/plain": [
       "['cat', 'sat', 'hat']"
      ]
     },
     "execution_count": 18,
     "metadata": {},
     "output_type": "execute_result"
    }
   ],
   "source": [
    "re.findall(r\".at\",\"the cat sat in a hat\")"
   ]
  },
  {
   "cell_type": "code",
   "execution_count": 23,
   "id": "329a3555",
   "metadata": {},
   "outputs": [
    {
     "data": {
      "text/plain": [
       "['cat', 'sat', 'hat', 'lat']"
      ]
     },
     "execution_count": 23,
     "metadata": {},
     "output_type": "execute_result"
    }
   ],
   "source": [
    "re.findall(r\".at\",\"the cat sat in a hat splat\")"
   ]
  },
  {
   "cell_type": "code",
   "execution_count": 24,
   "id": "9c4e5c5b",
   "metadata": {},
   "outputs": [
    {
     "data": {
      "text/plain": [
       "['e cat', 'a hat', 'splat']"
      ]
     },
     "execution_count": 24,
     "metadata": {},
     "output_type": "execute_result"
    }
   ],
   "source": [
    "re.findall(r\"...at\",\"the cat sat in a hat splat\")"
   ]
  },
  {
   "cell_type": "markdown",
   "id": "6c8b52a9",
   "metadata": {},
   "source": [
    "### ^ ---- starts with\n",
    "### $----Ends with"
   ]
  },
  {
   "cell_type": "code",
   "execution_count": 26,
   "id": "19b9d12b",
   "metadata": {},
   "outputs": [
    {
     "data": {
      "text/plain": [
       "['5']"
      ]
     },
     "execution_count": 26,
     "metadata": {},
     "output_type": "execute_result"
    }
   ],
   "source": [
    "re.findall(r\"\\d$\",\" the number2 ends with 5\")"
   ]
  },
  {
   "cell_type": "code",
   "execution_count": 37,
   "id": "9313e4cc",
   "metadata": {},
   "outputs": [
    {
     "name": "stdout",
     "output_type": "stream",
     "text": [
      "['2']\n",
      "[]\n"
     ]
    }
   ],
   "source": [
    "print(re.findall(r\"^\\d\",\"2The number 1 is a prime number\"))\n",
    "print(re.findall(r\"^\\d\",\"The number 1 is a prime number\"))\n"
   ]
  },
  {
   "cell_type": "code",
   "execution_count": 40,
   "id": "3ee57b33",
   "metadata": {},
   "outputs": [
    {
     "name": "stdout",
     "output_type": "stream",
     "text": [
      "[' ', 'T', 'h', 'e', ' ', 'n', 'u', 'm', 'b', 'e', 'r', ' ', ' ', 'i', 's', ' ', 'a', ' ', 'p', 'r', 'i', 'm', 'e', ' ', 'n', 'u', 'm', 'b', 'e', 'r']\n",
      "[' The number ', ' is a prime number']\n"
     ]
    }
   ],
   "source": [
    "print(re.findall(r\"[^\\d]\",\"45 The number 1 is a prime number\"))\n",
    "print(re.findall(r\"[^\\d]+\",\"45 The number 1 is a prime number\"))\n"
   ]
  },
  {
   "cell_type": "code",
   "execution_count": 41,
   "id": "b09a694d",
   "metadata": {},
   "outputs": [],
   "source": [
    "test_phrase = \"how to remove punctuations? in this text!\""
   ]
  },
  {
   "cell_type": "code",
   "execution_count": 45,
   "id": "fbd036f0",
   "metadata": {},
   "outputs": [
    {
     "data": {
      "text/plain": [
       "['h',\n",
       " 'o',\n",
       " 'w',\n",
       " ' ',\n",
       " 't',\n",
       " 'o',\n",
       " ' ',\n",
       " 'r',\n",
       " 'e',\n",
       " 'm',\n",
       " 'o',\n",
       " 'v',\n",
       " 'e',\n",
       " ' ',\n",
       " 'p',\n",
       " 'u',\n",
       " 'n',\n",
       " 'c',\n",
       " 't',\n",
       " 'u',\n",
       " 'a',\n",
       " 't',\n",
       " 'i',\n",
       " 'o',\n",
       " 'n',\n",
       " 's',\n",
       " ' ',\n",
       " 'i',\n",
       " 'n',\n",
       " ' ',\n",
       " 't',\n",
       " 'h',\n",
       " 'i',\n",
       " 's',\n",
       " ' ',\n",
       " 't',\n",
       " 'e',\n",
       " 'x',\n",
       " 't']"
      ]
     },
     "execution_count": 45,
     "metadata": {},
     "output_type": "execute_result"
    }
   ],
   "source": [
    "mylist = re.findall(r\"[^!.,?]\",test_phrase)\n",
    "mylist"
   ]
  },
  {
   "cell_type": "code",
   "execution_count": 50,
   "id": "63ee7f55",
   "metadata": {},
   "outputs": [],
   "source": [
    "mylist = re.findall(r\"[^!.,? ]+\",test_phrase)"
   ]
  },
  {
   "cell_type": "code",
   "execution_count": 51,
   "id": "aba80190",
   "metadata": {},
   "outputs": [
    {
     "data": {
      "text/plain": [
       "['how', 'to', 'remove', 'punctuations', 'in', 'this', 'text']"
      ]
     },
     "execution_count": 51,
     "metadata": {},
     "output_type": "execute_result"
    }
   ],
   "source": [
    "mylist"
   ]
  },
  {
   "cell_type": "code",
   "execution_count": 52,
   "id": "1ef3f064",
   "metadata": {},
   "outputs": [
    {
     "data": {
      "text/plain": [
       "'how to remove punctuations in this text'"
      ]
     },
     "execution_count": 52,
     "metadata": {},
     "output_type": "execute_result"
    }
   ],
   "source": [
    "' '.join(mylist)"
   ]
  },
  {
   "cell_type": "code",
   "execution_count": 53,
   "id": "3d791a86",
   "metadata": {},
   "outputs": [],
   "source": [
    "text = \"finding hiphen-words. that word is long-ish.\""
   ]
  },
  {
   "cell_type": "code",
   "execution_count": 55,
   "id": "1ecd0a57",
   "metadata": {},
   "outputs": [
    {
     "data": {
      "text/plain": [
       "['hiphen-words', 'long-ish']"
      ]
     },
     "execution_count": 55,
     "metadata": {},
     "output_type": "execute_result"
    }
   ],
   "source": [
    "re.findall(r\"[\\w]+-[\\w]+\",text)# hear we are not specifing what can be the length of words before or after hypen"
   ]
  },
  {
   "cell_type": "code",
   "execution_count": null,
   "id": "4845cff8",
   "metadata": {},
   "outputs": [],
   "source": []
  }
 ],
 "metadata": {
  "kernelspec": {
   "display_name": "Python 3",
   "language": "python",
   "name": "python3"
  },
  "language_info": {
   "codemirror_mode": {
    "name": "ipython",
    "version": 3
   },
   "file_extension": ".py",
   "mimetype": "text/x-python",
   "name": "python",
   "nbconvert_exporter": "python",
   "pygments_lexer": "ipython3",
   "version": "3.8.8"
  }
 },
 "nbformat": 4,
 "nbformat_minor": 5
}
