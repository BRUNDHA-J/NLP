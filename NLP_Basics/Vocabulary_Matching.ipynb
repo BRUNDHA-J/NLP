{
 "cells": [
  {
   "cell_type": "code",
   "execution_count": 11,
   "id": "18cb351f",
   "metadata": {},
   "outputs": [],
   "source": [
    "import spacy"
   ]
  },
  {
   "cell_type": "code",
   "execution_count": 12,
   "id": "e42168ef",
   "metadata": {},
   "outputs": [],
   "source": [
    "nlp = spacy.load(\"en_core_web_sm\")"
   ]
  },
  {
   "cell_type": "code",
   "execution_count": 26,
   "id": "10f848c7",
   "metadata": {},
   "outputs": [],
   "source": [
    "from spacy.matcher import Matcher"
   ]
  },
  {
   "cell_type": "code",
   "execution_count": 27,
   "id": "dd2f1868",
   "metadata": {},
   "outputs": [],
   "source": [
    "matcher = Matcher(nlp.vocab)"
   ]
  },
  {
   "cell_type": "code",
   "execution_count": 28,
   "id": "133ab6d6",
   "metadata": {},
   "outputs": [],
   "source": [
    "#machinelearning\n",
    "p1 = [{'LOWER':'machinelearning'}]\n",
    "# machine learning\n",
    "p2 = [{'LOWER':'machine'},{'LOWER':'learning'}]\n",
    "# machine-learning\n",
    "p3 = [{'LOWER':'machine'},{'IS_PUNCT':True},{'LOWER':'learning'}]"
   ]
  },
  {
   "cell_type": "code",
   "execution_count": 37,
   "id": "ecc2f5ed",
   "metadata": {
    "scrolled": true
   },
   "outputs": [],
   "source": [
    "matcher.add('MachineLearning',[p1,p2,p3])"
   ]
  },
  {
   "cell_type": "code",
   "execution_count": 38,
   "id": "28cc1a31",
   "metadata": {},
   "outputs": [],
   "source": [
    "doc = nlp(u\"I like machine learning. varsha like machine-learning. we both learnt machinelearning\")"
   ]
  },
  {
   "cell_type": "code",
   "execution_count": 39,
   "id": "799d97fb",
   "metadata": {},
   "outputs": [
    {
     "name": "stdout",
     "output_type": "stream",
     "text": [
      "[(9506786281736591487, 2, 4), (9506786281736591487, 7, 10), (9506786281736591487, 14, 15)]\n"
     ]
    }
   ],
   "source": [
    "found_matches = matcher(doc)\n",
    "print(found_matches)"
   ]
  },
  {
   "cell_type": "code",
   "execution_count": 40,
   "id": "33059c81",
   "metadata": {},
   "outputs": [],
   "source": [
    "matcher.remove('MachineLearning')"
   ]
  },
  {
   "cell_type": "code",
   "execution_count": 42,
   "id": "c0a0e12a",
   "metadata": {},
   "outputs": [],
   "source": [
    "p1 =[{'LOWER':'machinelearning'}]\n",
    "p2 = [{'LOWER':'machine'},{'IS_PUNCT':True,'OP':'*'},{'LOWER':'learning'}]"
   ]
  },
  {
   "cell_type": "code",
   "execution_count": 43,
   "id": "159f74db",
   "metadata": {},
   "outputs": [],
   "source": [
    "matcher.add('MachineLearning',[p1,p2])"
   ]
  },
  {
   "cell_type": "code",
   "execution_count": 47,
   "id": "8096d410",
   "metadata": {},
   "outputs": [],
   "source": [
    "doc2 = nlp(u\"I like machine learning. varsha like a machine---learning. we both learnt machinelearning\")"
   ]
  },
  {
   "cell_type": "code",
   "execution_count": 48,
   "id": "ff430af4",
   "metadata": {},
   "outputs": [
    {
     "name": "stdout",
     "output_type": "stream",
     "text": [
      "[(9506786281736591487, 2, 4), (9506786281736591487, 8, 11), (9506786281736591487, 15, 16)]\n"
     ]
    }
   ],
   "source": [
    "found_matches = matcher(doc2)\n",
    "print(found_matches)"
   ]
  },
  {
   "cell_type": "code",
   "execution_count": 65,
   "id": "b3bf50e3",
   "metadata": {},
   "outputs": [],
   "source": [
    "from spacy.matcher import PhraseMatcher"
   ]
  },
  {
   "cell_type": "code",
   "execution_count": 66,
   "id": "36f4d714",
   "metadata": {},
   "outputs": [],
   "source": [
    "matcher = PhraseMatcher(nlp.vocab)"
   ]
  },
  {
   "cell_type": "code",
   "execution_count": 67,
   "id": "d43b2872",
   "metadata": {},
   "outputs": [],
   "source": [
    "with open(\"Happy Customer Bank is a mid.txt\")as f:\n",
    "    doc3 = nlp(f.read())"
   ]
  },
  {
   "cell_type": "code",
   "execution_count": 68,
   "id": "76fcde13",
   "metadata": {},
   "outputs": [],
   "source": [
    "phrase = ['Savings accounts','Current accounts']"
   ]
  },
  {
   "cell_type": "code",
   "execution_count": 69,
   "id": "21ec8a56",
   "metadata": {},
   "outputs": [],
   "source": [
    "phrase_patterns = [nlp(text) for text in phrase]"
   ]
  },
  {
   "cell_type": "code",
   "execution_count": 70,
   "id": "08b9444d",
   "metadata": {},
   "outputs": [
    {
     "data": {
      "text/plain": [
       "[Savings accounts, Current accounts]"
      ]
     },
     "execution_count": 70,
     "metadata": {},
     "output_type": "execute_result"
    }
   ],
   "source": [
    "phrase_patterns"
   ]
  },
  {
   "cell_type": "code",
   "execution_count": 71,
   "id": "913c895b",
   "metadata": {},
   "outputs": [],
   "source": [
    "matcher.add('AccountMatcher',*[phrase_patterns])"
   ]
  },
  {
   "cell_type": "code",
   "execution_count": 72,
   "id": "5563c950",
   "metadata": {},
   "outputs": [
    {
     "name": "stdout",
     "output_type": "stream",
     "text": [
      "[(16687868330271431474, 20, 22), (16687868330271431474, 23, 25)]\n"
     ]
    }
   ],
   "source": [
    "found_matches = matcher(doc3)\n",
    "print(found_matches)"
   ]
  },
  {
   "cell_type": "code",
   "execution_count": 75,
   "id": "a51532bf",
   "metadata": {},
   "outputs": [
    {
     "name": "stdout",
     "output_type": "stream",
     "text": [
      "16687868330271431474 AccountMatcher 20 22 Savings accounts\n",
      "16687868330271431474 AccountMatcher 23 25 Current accounts\n"
     ]
    }
   ],
   "source": [
    "for match_id,start,end in found_matches:\n",
    "    string_id = nlp.vocab.strings[match_id]\n",
    "    span = doc3[start:end]\n",
    "    print(match_id,string_id,start,end,span)"
   ]
  },
  {
   "cell_type": "code",
   "execution_count": 76,
   "id": "1706172a",
   "metadata": {},
   "outputs": [
    {
     "name": "stdout",
     "output_type": "stream",
     "text": [
      "16687868330271431474 AccountMatcher 20 22 , like Savings accounts, Current\n",
      "16687868330271431474 AccountMatcher 23 25 accounts, Current accounts, investment\n"
     ]
    }
   ],
   "source": [
    "for match_id,start,end in found_matches:\n",
    "    string_id = nlp.vocab.strings[match_id]\n",
    "    span = doc3[start-2:end+2]\n",
    "    print(match_id,string_id,start,end,span)"
   ]
  },
  {
   "cell_type": "code",
   "execution_count": null,
   "id": "f4deaf51",
   "metadata": {},
   "outputs": [],
   "source": []
  }
 ],
 "metadata": {
  "kernelspec": {
   "display_name": "Python 3",
   "language": "python",
   "name": "python3"
  },
  "language_info": {
   "codemirror_mode": {
    "name": "ipython",
    "version": 3
   },
   "file_extension": ".py",
   "mimetype": "text/x-python",
   "name": "python",
   "nbconvert_exporter": "python",
   "pygments_lexer": "ipython3",
   "version": "3.8.8"
  }
 },
 "nbformat": 4,
 "nbformat_minor": 5
}
