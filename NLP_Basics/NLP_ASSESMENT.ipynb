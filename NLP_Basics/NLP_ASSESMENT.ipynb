{
 "cells": [
  {
   "cell_type": "code",
   "execution_count": 1,
   "id": "abb57fbb",
   "metadata": {},
   "outputs": [],
   "source": [
    "import spacy"
   ]
  },
  {
   "cell_type": "code",
   "execution_count": 2,
   "id": "51c8ec04",
   "metadata": {},
   "outputs": [],
   "source": [
    "nlp = spacy.load(\"en_core_web_sm\")"
   ]
  },
  {
   "cell_type": "code",
   "execution_count": 3,
   "id": "b8f2493d",
   "metadata": {},
   "outputs": [],
   "source": [
    "with open('An_occurance_of.txt','r') as f:\n",
    "    doc = nlp(f.read())"
   ]
  },
  {
   "cell_type": "code",
   "execution_count": 4,
   "id": "6bf34f68",
   "metadata": {},
   "outputs": [
    {
     "data": {
      "text/plain": [
       "AN OCCURRENCE AT OWL CREEK BRIDGE\n",
       "\n",
       "by Ambrose Bierce\n",
       "\n",
       "A man stood upon a railroad bridge in northern Alabama, looking down\n",
       "into the swift water twenty feet below.  The man"
      ]
     },
     "execution_count": 4,
     "metadata": {},
     "output_type": "execute_result"
    }
   ],
   "source": [
    "doc[:36]"
   ]
  },
  {
   "cell_type": "code",
   "execution_count": 5,
   "id": "2e4fc55f",
   "metadata": {},
   "outputs": [
    {
     "data": {
      "text/plain": [
       "8595"
      ]
     },
     "execution_count": 5,
     "metadata": {},
     "output_type": "execute_result"
    }
   ],
   "source": [
    "len(doc)"
   ]
  },
  {
   "cell_type": "code",
   "execution_count": 6,
   "id": "5d830b67",
   "metadata": {},
   "outputs": [],
   "source": [
    "doc_sentence = [sent for sent in doc.sents]"
   ]
  },
  {
   "cell_type": "code",
   "execution_count": 7,
   "id": "fa7afadc",
   "metadata": {
    "scrolled": true
   },
   "outputs": [
    {
     "data": {
      "text/plain": [
       "466"
      ]
     },
     "execution_count": 7,
     "metadata": {},
     "output_type": "execute_result"
    }
   ],
   "source": [
    "len(doc_sentence)"
   ]
  },
  {
   "cell_type": "code",
   "execution_count": 26,
   "id": "c75721d8",
   "metadata": {},
   "outputs": [
    {
     "data": {
      "text/plain": [
       "AN OCCURRENCE AT OWL CREEK BRIDGE\n",
       "\n",
       "by Ambrose Bierce\n",
       "\n",
       "A man stood upon a railroad bridge in northern Alabama, looking down\n",
       "into the swift water twenty feet below.  "
      ]
     },
     "execution_count": 26,
     "metadata": {},
     "output_type": "execute_result"
    }
   ],
   "source": [
    "doc_sentence[0]"
   ]
  },
  {
   "cell_type": "code",
   "execution_count": 25,
   "id": "d6fa9297",
   "metadata": {},
   "outputs": [
    {
     "name": "stdout",
     "output_type": "stream",
     "text": [
      "The man's hands were behind\n",
      "his back, the wrists bound with a cord.\n"
     ]
    }
   ],
   "source": [
    "print(doc_sentence[1].text)"
   ]
  },
  {
   "cell_type": "code",
   "execution_count": 27,
   "id": "4cf7304d",
   "metadata": {},
   "outputs": [],
   "source": [
    "A = doc_sentence[1]"
   ]
  },
  {
   "cell_type": "code",
   "execution_count": 35,
   "id": "89cc25df",
   "metadata": {},
   "outputs": [
    {
     "name": "stdout",
     "output_type": "stream",
     "text": [
      "The              DET                           415        DT                 the\n",
      "man             NOUN                           440        NN                 man\n",
      "'s              PART           8110129090154140942       POS                  's\n",
      "hands           NOUN                           429       NNS                hand\n",
      "were             AUX           8206900633647566924       VBD                  be\n",
      "behind           ADV                           400        RB              behind\n",
      "\n",
      "              SPACE                           445       _SP                   \n",
      "\n",
      "his             PRON                           440      PRP$                 his\n",
      "back            NOUN                           404        NN                back\n",
      ",              PUNCT                           445         ,                   ,\n",
      "the              DET                           415        DT                 the\n",
      "wrists          NOUN                           403       NNS               wrist\n",
      "bound           VERB                           451       VBN                bind\n",
      "with             ADP                           443        IN                with\n",
      "a                DET                           415        DT                   a\n",
      "cord            NOUN                           439        NN                cord\n",
      ".              PUNCT                           445         .                   .\n"
     ]
    }
   ],
   "source": [
    "for t in A:\n",
    "    print(f\"{t.text:{10}}{t.pos_:>{10}}{t.dep:>{30}}{t.tag_:>{10}}{t.lemma_:>{20}}\")"
   ]
  },
  {
   "cell_type": "code",
   "execution_count": 37,
   "id": "15916d56",
   "metadata": {},
   "outputs": [],
   "source": [
    "from spacy.matcher import Matcher"
   ]
  },
  {
   "cell_type": "code",
   "execution_count": 39,
   "id": "30820c83",
   "metadata": {},
   "outputs": [],
   "source": [
    "matcher = Matcher(nlp.vocab)"
   ]
  },
  {
   "cell_type": "code",
   "execution_count": 55,
   "id": "b0a75366",
   "metadata": {},
   "outputs": [],
   "source": [
    "p1 = [{\"LOWER\":\"swimming\"},{\"IS_SPACE\":True,\"OP\":\"*\"},{\"LOWER\":\"vigorously\"}]\n",
    "matcher.add(\"Swim\",[p1])"
   ]
  },
  {
   "cell_type": "code",
   "execution_count": 74,
   "id": "4082e369",
   "metadata": {},
   "outputs": [
    {
     "name": "stdout",
     "output_type": "stream",
     "text": [
      "[(767630355334542925, 1272, 1275), (767630355334542925, 3607, 3610)]\n"
     ]
    }
   ],
   "source": [
    "found_matches = matcher(doc)\n",
    "print(found_matches)"
   ]
  },
  {
   "cell_type": "code",
   "execution_count": 73,
   "id": "cedd419a",
   "metadata": {},
   "outputs": [
    {
     "name": "stdout",
     "output_type": "stream",
     "text": [
      "evade the bullets and, swimming\n",
      "vigorously, reach the bank,\n"
     ]
    }
   ],
   "source": [
    "span = doc[1272-5:1275+5]\n",
    "print(span)"
   ]
  },
  {
   "cell_type": "code",
   "execution_count": 85,
   "id": "21bb4835",
   "metadata": {},
   "outputs": [
    {
     "name": "stdout",
     "output_type": "stream",
     "text": [
      "By diving I could evade the bullets and, swimming\n",
      "vigorously, reach the bank, take to the woods and get away home.\n"
     ]
    }
   ],
   "source": [
    "for sentence in doc_sentence:\n",
    "    if found_matches[0][1] < sentence.end:\n",
    "        print(sentence)\n",
    "        break"
   ]
  },
  {
   "cell_type": "code",
   "execution_count": 86,
   "id": "379ef19d",
   "metadata": {},
   "outputs": [
    {
     "name": "stdout",
     "output_type": "stream",
     "text": [
      "\n",
      "\n",
      "The hunted man saw all this over his shoulder; he was now swimming\n",
      "vigorously with the current.\n"
     ]
    }
   ],
   "source": [
    "for sentence in doc_sentence:\n",
    "    if found_matches[1][1] < sentence.end:\n",
    "        print(sentence)\n",
    "        break"
   ]
  },
  {
   "cell_type": "code",
   "execution_count": null,
   "id": "385170e8",
   "metadata": {},
   "outputs": [],
   "source": []
  }
 ],
 "metadata": {
  "kernelspec": {
   "display_name": "Python 3",
   "language": "python",
   "name": "python3"
  },
  "language_info": {
   "codemirror_mode": {
    "name": "ipython",
    "version": 3
   },
   "file_extension": ".py",
   "mimetype": "text/x-python",
   "name": "python",
   "nbconvert_exporter": "python",
   "pygments_lexer": "ipython3",
   "version": "3.8.8"
  }
 },
 "nbformat": 4,
 "nbformat_minor": 5
}
