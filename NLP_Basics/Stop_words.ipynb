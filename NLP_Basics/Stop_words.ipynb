{
 "cells": [
  {
   "cell_type": "code",
   "execution_count": 1,
   "id": "6ee8d258",
   "metadata": {},
   "outputs": [],
   "source": [
    "import spacy"
   ]
  },
  {
   "cell_type": "code",
   "execution_count": 2,
   "id": "e5eb913a",
   "metadata": {},
   "outputs": [],
   "source": [
    "nlp = spacy.load(\"en_core_web_sm\")"
   ]
  },
  {
   "cell_type": "code",
   "execution_count": 12,
   "id": "937b1a72",
   "metadata": {},
   "outputs": [
    {
     "name": "stdout",
     "output_type": "stream",
     "text": [
      "{'latter', 'sixty', 'anyhow', 'thereby', 'whom', 'behind', 'more', 'three', \"'re\", 'give', 'take', 'who', 'next', 'hereby', 'no', \"n't\", 'below', 'very', 'throughout', 'whence', 'which', 'however', 'upon', 'besides', 'say', 'when', 'nobody', 'thereafter', 'until', 'a', 'thru', 'whereafter', 'therein', 'back', 'thence', 'further', 'you', 'between', 'seeming', 'while', 'whither', 'eight', 'namely', 'do', 'sometimes', 'and', 'everyone', 'within', 'moreover', 'be', 'down', 'onto', 'already', 'around', 'myself', 'her', \"'m\", 'doing', 'twenty', 'is', \"'d\", 'this', \"'ll\", '‘re', 'mine', 'herein', 'someone', 'yours', 'wherein', 'whole', 'ten', 'him', 'amongst', 'if', 'rather', 'my', 'hereupon', 'becoming', 'does', 'must', 'whose', 'thereupon', 'about', 'whereby', 'whatever', 'over', 'else', 'against', 'first', 'seem', 'up', 'out', 'hundred', 'at', 'yourself', 'than', 'therefore', 'via', 'me', 'on', 'become', 'yet', 'was', 'why', 'your', 'see', 'in', 'using', 'make', 'being', 'still', 'one', 'these', 'their', 'formerly', 'herself', 'some', 'once', 'noone', 'five', 'various', 'them', 'made', 'yourselves', 'front', 'then', 'regarding', 'except', 'among', 'either', 'or', 'whereas', 'are', '’m', 'n’t', 'sometime', 'although', 'most', '’re', '‘s', 'now', 'both', 'beyond', 'something', 'many', 'seems', 'get', 'itself', 'all', 'same', 'top', 'such', 'hereafter', 'were', 'anyone', 'ever', 'he', 'but', 'anything', 'for', 'two', 'enough', 'per', 'move', 'several', 'during', 'due', 'before', 'others', 'beside', 'n‘t', 'really', 'becomes', 'after', 'everywhere', 'twelve', 'name', 'six', 'last', 'part', 'those', 'could', 'across', 'whenever', 'will', 'they', 'to', 'am', 'even', 'few', 'nothing', 'everything', 'keep', 'always', 'meanwhile', 'that', '’s', 'as', 'go', '’ll', 'serious', 'i', 'themselves', 'nor', 'each', 'us', 'elsewhere', 'thus', 'did', 'somewhere', 'show', 'where', 'forty', 'became', 'third', 'any', '’d', 'bottom', 'whoever', 'every', 'through', 'never', 'anyway', 'along', 'himself', 'off', 'almost', 'neither', 'empty', 'less', '‘m', 'too', 'without', 'also', '‘d', 'indeed', '‘ve', 'not', 'mostly', '’ve', 'seemed', 'been', 'whereupon', 'much', 'would', 'amount', 'put', 'nevertheless', 'his', 'with', 'done', 'afterwards', 'used', 'may', 'how', 'our', 'unless', 'call', 'anywhere', 'together', 'other', 'full', 'ours', 'fifteen', 'whether', 're', 'somehow', 'fifty', 'quite', 'well', 'the', 'only', 'wherever', 'ourselves', 'own', 'towards', 'another', 'there', 'otherwise', 'because', 'nowhere', 'has', 'of', 'its', 'by', 'though', 'toward', 'can', 'latterly', 'under', 'side', 'into', 'none', 'perhaps', 'beforehand', 'what', 'eleven', 'ca', 'an', 'please', 'hence', 'should', 'so', 'have', 'least', '‘ll', 'had', 'just', 'from', 'alone', 'cannot', 'above', 'former', 'here', 'we', 'again', 'four', 'nine', \"'ve\", 'it', 'might', 'often', 'she', 'since', 'hers', \"'s\"}\n"
     ]
    }
   ],
   "source": [
    "print(nlp.Defaults.stop_words)"
   ]
  },
  {
   "cell_type": "code",
   "execution_count": 13,
   "id": "dab4d7f7",
   "metadata": {},
   "outputs": [
    {
     "data": {
      "text/plain": [
       "326"
      ]
     },
     "execution_count": 13,
     "metadata": {},
     "output_type": "execute_result"
    }
   ],
   "source": [
    "len(nlp.Defaults.stop_words)"
   ]
  },
  {
   "cell_type": "code",
   "execution_count": 14,
   "id": "fec3b9b1",
   "metadata": {},
   "outputs": [
    {
     "data": {
      "text/plain": [
       "False"
      ]
     },
     "execution_count": 14,
     "metadata": {},
     "output_type": "execute_result"
    }
   ],
   "source": [
    "nlp.vocab[\"Brundha\"].is_stop"
   ]
  },
  {
   "cell_type": "code",
   "execution_count": 15,
   "id": "f6dac058",
   "metadata": {},
   "outputs": [
    {
     "data": {
      "text/plain": [
       "True"
      ]
     },
     "execution_count": 15,
     "metadata": {},
     "output_type": "execute_result"
    }
   ],
   "source": [
    "nlp.vocab[\"are\"].is_stop"
   ]
  },
  {
   "cell_type": "markdown",
   "id": "3919f343",
   "metadata": {},
   "source": [
    "## Adding a Stop word in Dictionary"
   ]
  },
  {
   "cell_type": "code",
   "execution_count": 16,
   "id": "b4d4fad0",
   "metadata": {},
   "outputs": [],
   "source": [
    "nlp.Defaults.stop_words.add(\"Brundha\")"
   ]
  },
  {
   "cell_type": "code",
   "execution_count": 17,
   "id": "d3427878",
   "metadata": {},
   "outputs": [],
   "source": [
    "nlp.vocab[\"Brundha\"].is_stop = True"
   ]
  },
  {
   "cell_type": "code",
   "execution_count": 18,
   "id": "ed735a68",
   "metadata": {},
   "outputs": [
    {
     "data": {
      "text/plain": [
       "327"
      ]
     },
     "execution_count": 18,
     "metadata": {},
     "output_type": "execute_result"
    }
   ],
   "source": [
    "len(nlp.Defaults.stop_words)"
   ]
  },
  {
   "cell_type": "code",
   "execution_count": 19,
   "id": "10214208",
   "metadata": {},
   "outputs": [
    {
     "data": {
      "text/plain": [
       "True"
      ]
     },
     "execution_count": 19,
     "metadata": {},
     "output_type": "execute_result"
    }
   ],
   "source": [
    "nlp.vocab[\"Brundha\"].is_stop"
   ]
  },
  {
   "cell_type": "code",
   "execution_count": 20,
   "id": "a074c582",
   "metadata": {},
   "outputs": [
    {
     "name": "stdout",
     "output_type": "stream",
     "text": [
      "{'latter', 'sixty', 'anyhow', 'thereby', 'whom', 'behind', 'more', 'three', \"'re\", 'give', 'take', 'who', 'next', 'hereby', 'no', \"n't\", 'below', 'very', 'throughout', 'whence', 'which', 'however', 'upon', 'besides', 'say', 'when', 'nobody', 'thereafter', 'until', 'a', 'thru', 'whereafter', 'therein', 'back', 'thence', 'further', 'you', 'between', 'seeming', 'while', 'whither', 'eight', 'namely', 'do', 'sometimes', 'and', 'everyone', 'within', 'moreover', 'be', 'down', 'onto', 'already', 'around', 'myself', 'her', \"'m\", 'doing', 'twenty', 'is', \"'d\", 'this', \"'ll\", '‘re', 'mine', 'herein', 'someone', 'yours', 'wherein', 'whole', 'ten', 'him', 'amongst', 'if', 'rather', 'my', 'hereupon', 'becoming', 'does', 'must', 'whose', 'thereupon', 'about', 'whereby', 'whatever', 'over', 'else', 'against', 'first', 'seem', 'up', 'out', 'hundred', 'at', 'yourself', 'than', 'Brundha', 'therefore', 'via', 'me', 'on', 'become', 'yet', 'was', 'why', 'your', 'see', 'in', 'using', 'make', 'being', 'still', 'one', 'these', 'their', 'formerly', 'herself', 'some', 'once', 'noone', 'five', 'various', 'them', 'made', 'yourselves', 'front', 'then', 'regarding', 'except', 'among', 'either', 'or', 'whereas', 'are', '’m', 'n’t', 'sometime', 'although', 'most', '’re', '‘s', 'now', 'both', 'beyond', 'something', 'many', 'seems', 'get', 'itself', 'all', 'same', 'top', 'such', 'hereafter', 'were', 'anyone', 'ever', 'he', 'but', 'anything', 'for', 'two', 'enough', 'per', 'move', 'several', 'during', 'due', 'before', 'others', 'beside', 'n‘t', 'really', 'becomes', 'after', 'everywhere', 'twelve', 'name', 'six', 'last', 'part', 'those', 'could', 'across', 'whenever', 'will', 'they', 'to', 'am', 'even', 'few', 'nothing', 'everything', 'keep', 'always', 'meanwhile', 'that', '’s', 'as', 'go', '’ll', 'serious', 'i', 'themselves', 'nor', 'each', 'us', 'elsewhere', 'thus', 'did', 'somewhere', 'show', 'where', 'forty', 'became', 'third', 'any', '’d', 'bottom', 'whoever', 'every', 'through', 'never', 'anyway', 'along', 'himself', 'off', 'almost', 'neither', 'empty', 'less', '‘m', 'too', 'without', 'also', '‘d', 'indeed', '‘ve', 'not', 'mostly', '’ve', 'seemed', 'been', 'whereupon', 'much', 'would', 'amount', 'put', 'nevertheless', 'his', 'with', 'done', 'afterwards', 'used', 'may', 'how', 'our', 'unless', 'call', 'anywhere', 'together', 'other', 'full', 'ours', 'fifteen', 'whether', 're', 'somehow', 'fifty', 'quite', 'well', 'the', 'only', 'wherever', 'ourselves', 'own', 'towards', 'another', 'there', 'otherwise', 'because', 'nowhere', 'has', 'of', 'its', 'by', 'though', 'toward', 'can', 'latterly', 'under', 'side', 'into', 'none', 'perhaps', 'beforehand', 'what', 'eleven', 'ca', 'an', 'please', 'hence', 'should', 'so', 'have', 'least', '‘ll', 'had', 'just', 'from', 'alone', 'cannot', 'above', 'former', 'here', 'we', 'again', 'four', 'nine', \"'ve\", 'it', 'might', 'often', 'she', 'since', 'hers', \"'s\"}\n"
     ]
    }
   ],
   "source": [
    "print(nlp.Defaults.stop_words)"
   ]
  },
  {
   "cell_type": "markdown",
   "id": "45d8fd3d",
   "metadata": {},
   "source": [
    "## Removing a stop word"
   ]
  },
  {
   "cell_type": "code",
   "execution_count": 21,
   "id": "7a67930d",
   "metadata": {},
   "outputs": [],
   "source": [
    "nlp.Defaults.stop_words.remove(\"Brundha\")"
   ]
  },
  {
   "cell_type": "code",
   "execution_count": 22,
   "id": "71668e39",
   "metadata": {},
   "outputs": [],
   "source": [
    "nlp.vocab[\"Brundha\"].is_stop = False"
   ]
  },
  {
   "cell_type": "code",
   "execution_count": 23,
   "id": "ecc79f0e",
   "metadata": {},
   "outputs": [
    {
     "data": {
      "text/plain": [
       "False"
      ]
     },
     "execution_count": 23,
     "metadata": {},
     "output_type": "execute_result"
    }
   ],
   "source": [
    "nlp.vocab[\"Brundha\"].is_stop"
   ]
  },
  {
   "cell_type": "code",
   "execution_count": 24,
   "id": "b844a151",
   "metadata": {},
   "outputs": [
    {
     "data": {
      "text/plain": [
       "326"
      ]
     },
     "execution_count": 24,
     "metadata": {},
     "output_type": "execute_result"
    }
   ],
   "source": [
    "len(nlp.Defaults.stop_words)"
   ]
  },
  {
   "cell_type": "code",
   "execution_count": 25,
   "id": "44163275",
   "metadata": {},
   "outputs": [
    {
     "name": "stdout",
     "output_type": "stream",
     "text": [
      "{'latter', 'sixty', 'anyhow', 'thereby', 'whom', 'behind', 'more', 'three', \"'re\", 'give', 'take', 'who', 'next', 'hereby', 'no', \"n't\", 'below', 'very', 'throughout', 'whence', 'which', 'however', 'upon', 'besides', 'say', 'when', 'nobody', 'thereafter', 'until', 'a', 'thru', 'whereafter', 'therein', 'back', 'thence', 'further', 'you', 'between', 'seeming', 'while', 'whither', 'eight', 'namely', 'do', 'sometimes', 'and', 'everyone', 'within', 'moreover', 'be', 'down', 'onto', 'already', 'around', 'myself', 'her', \"'m\", 'doing', 'twenty', 'is', \"'d\", 'this', \"'ll\", '‘re', 'mine', 'herein', 'someone', 'yours', 'wherein', 'whole', 'ten', 'him', 'amongst', 'if', 'rather', 'my', 'hereupon', 'becoming', 'does', 'must', 'whose', 'thereupon', 'about', 'whereby', 'whatever', 'over', 'else', 'against', 'first', 'seem', 'up', 'out', 'hundred', 'at', 'yourself', 'than', 'therefore', 'via', 'me', 'on', 'become', 'yet', 'was', 'why', 'your', 'see', 'in', 'using', 'make', 'being', 'still', 'one', 'these', 'their', 'formerly', 'herself', 'some', 'once', 'noone', 'five', 'various', 'them', 'made', 'yourselves', 'front', 'then', 'regarding', 'except', 'among', 'either', 'or', 'whereas', 'are', '’m', 'n’t', 'sometime', 'although', 'most', '’re', '‘s', 'now', 'both', 'beyond', 'something', 'many', 'seems', 'get', 'itself', 'all', 'same', 'top', 'such', 'hereafter', 'were', 'anyone', 'ever', 'he', 'but', 'anything', 'for', 'two', 'enough', 'per', 'move', 'several', 'during', 'due', 'before', 'others', 'beside', 'n‘t', 'really', 'becomes', 'after', 'everywhere', 'twelve', 'name', 'six', 'last', 'part', 'those', 'could', 'across', 'whenever', 'will', 'they', 'to', 'am', 'even', 'few', 'nothing', 'everything', 'keep', 'always', 'meanwhile', 'that', '’s', 'as', 'go', '’ll', 'serious', 'i', 'themselves', 'nor', 'each', 'us', 'elsewhere', 'thus', 'did', 'somewhere', 'show', 'where', 'forty', 'became', 'third', 'any', '’d', 'bottom', 'whoever', 'every', 'through', 'never', 'anyway', 'along', 'himself', 'off', 'almost', 'neither', 'empty', 'less', '‘m', 'too', 'without', 'also', '‘d', 'indeed', '‘ve', 'not', 'mostly', '’ve', 'seemed', 'been', 'whereupon', 'much', 'would', 'amount', 'put', 'nevertheless', 'his', 'with', 'done', 'afterwards', 'used', 'may', 'how', 'our', 'unless', 'call', 'anywhere', 'together', 'other', 'full', 'ours', 'fifteen', 'whether', 're', 'somehow', 'fifty', 'quite', 'well', 'the', 'only', 'wherever', 'ourselves', 'own', 'towards', 'another', 'there', 'otherwise', 'because', 'nowhere', 'has', 'of', 'its', 'by', 'though', 'toward', 'can', 'latterly', 'under', 'side', 'into', 'none', 'perhaps', 'beforehand', 'what', 'eleven', 'ca', 'an', 'please', 'hence', 'should', 'so', 'have', 'least', '‘ll', 'had', 'just', 'from', 'alone', 'cannot', 'above', 'former', 'here', 'we', 'again', 'four', 'nine', \"'ve\", 'it', 'might', 'often', 'she', 'since', 'hers', \"'s\"}\n"
     ]
    }
   ],
   "source": [
    "print(nlp.Defaults.stop_words)"
   ]
  },
  {
   "cell_type": "code",
   "execution_count": null,
   "id": "9c646f7d",
   "metadata": {},
   "outputs": [],
   "source": []
  }
 ],
 "metadata": {
  "kernelspec": {
   "display_name": "Python 3",
   "language": "python",
   "name": "python3"
  },
  "language_info": {
   "codemirror_mode": {
    "name": "ipython",
    "version": 3
   },
   "file_extension": ".py",
   "mimetype": "text/x-python",
   "name": "python",
   "nbconvert_exporter": "python",
   "pygments_lexer": "ipython3",
   "version": "3.8.8"
  }
 },
 "nbformat": 4,
 "nbformat_minor": 5
}
