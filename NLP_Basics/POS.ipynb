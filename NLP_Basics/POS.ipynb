{
 "cells": [
  {
   "cell_type": "code",
   "execution_count": 1,
   "id": "38eb6c05",
   "metadata": {},
   "outputs": [],
   "source": [
    "import spacy"
   ]
  },
  {
   "cell_type": "code",
   "execution_count": 2,
   "id": "fad7286c",
   "metadata": {},
   "outputs": [],
   "source": [
    "nlp = spacy.load(\"en_core_web_sm\")"
   ]
  },
  {
   "cell_type": "code",
   "execution_count": 5,
   "id": "9ca12511",
   "metadata": {},
   "outputs": [],
   "source": [
    "doc = nlp(u\"The quick brown fox jumpued over the lazy dog's back.\")"
   ]
  },
  {
   "cell_type": "code",
   "execution_count": 7,
   "id": "5bc75bf8",
   "metadata": {},
   "outputs": [
    {
     "name": "stdout",
     "output_type": "stream",
     "text": [
      "The quick brown fox jumpued over the lazy dog's back.\n"
     ]
    }
   ],
   "source": [
    "print(doc.text)"
   ]
  },
  {
   "cell_type": "code",
   "execution_count": 8,
   "id": "e3de9c0d",
   "metadata": {},
   "outputs": [
    {
     "name": "stdout",
     "output_type": "stream",
     "text": [
      "VERB\n"
     ]
    }
   ],
   "source": [
    "print(doc[4].pos_)#jump is a verb"
   ]
  },
  {
   "cell_type": "code",
   "execution_count": 10,
   "id": "83315be2",
   "metadata": {},
   "outputs": [
    {
     "name": "stdout",
     "output_type": "stream",
     "text": [
      "VBD\n"
     ]
    }
   ],
   "source": [
    "print(doc[4].tag_)# vbd refers to a verb in past tense"
   ]
  },
  {
   "cell_type": "code",
   "execution_count": 11,
   "id": "b531d095",
   "metadata": {},
   "outputs": [],
   "source": [
    "doc = nlp(u\"I am writing. I wrote. I will write\")"
   ]
  },
  {
   "cell_type": "code",
   "execution_count": 15,
   "id": "44217eb7",
   "metadata": {},
   "outputs": [
    {
     "name": "stdout",
     "output_type": "stream",
     "text": [
      "I                   PRON                PRP                 pronoun, personal\n",
      "am                  AUX                 VBP                 verb, non-3rd person singular present\n",
      "writing             VERB                VBG                 verb, gerund or present participle\n",
      ".                   PUNCT               .                   punctuation mark, sentence closer\n",
      "I                   PRON                PRP                 pronoun, personal\n",
      "wrote               VERB                VBD                 verb, past tense\n",
      ".                   PUNCT               .                   punctuation mark, sentence closer\n",
      "I                   PRON                PRP                 pronoun, personal\n",
      "will                AUX                 MD                  verb, modal auxiliary\n",
      "write               VERB                VB                  verb, base form\n"
     ]
    }
   ],
   "source": [
    "for t in doc:\n",
    "    print(f\"{t.text:{20}}{t.pos_:{20}}{t.tag_:{20}}{spacy.explain(t.tag_)}\")"
   ]
  },
  {
   "cell_type": "code",
   "execution_count": 65,
   "id": "d0b43f25",
   "metadata": {},
   "outputs": [],
   "source": [
    "doc1 = nlp(u\"He reads books on NLP\")"
   ]
  },
  {
   "cell_type": "code",
   "execution_count": 66,
   "id": "70be9e0a",
   "metadata": {},
   "outputs": [
    {
     "data": {
      "text/plain": [
       "'read'"
      ]
     },
     "execution_count": 66,
     "metadata": {},
     "output_type": "execute_result"
    }
   ],
   "source": [
    "word.text"
   ]
  },
  {
   "cell_type": "code",
   "execution_count": 67,
   "id": "337f2082",
   "metadata": {},
   "outputs": [
    {
     "name": "stdout",
     "output_type": "stream",
     "text": [
      "reads               VERB                VBZ                 verb, 3rd person singular present\n"
     ]
    }
   ],
   "source": [
    "word = doc1[1]\n",
    "t = word\n",
    "print(f\"{t.text:{20}}{t.pos_:{20}}{t.tag_:{20}}{spacy.explain(t.tag_)}\")"
   ]
  },
  {
   "cell_type": "code",
   "execution_count": 68,
   "id": "2df0873c",
   "metadata": {},
   "outputs": [
    {
     "name": "stdout",
     "output_type": "stream",
     "text": [
      "read                VERB                VBD                 verb, past tense\n"
     ]
    }
   ],
   "source": [
    "doc2 = nlp(u\"He read a book on NLP\")\n",
    "\n",
    "word = doc2[1]\n",
    "t = word\n",
    "print(f\"{t.text:{20}}{t.pos_:{20}}{t.tag_:{20}}{spacy.explain(t.tag_)}\")"
   ]
  },
  {
   "cell_type": "markdown",
   "id": "70c74167",
   "metadata": {},
   "source": [
    "## Frequency count in a doc\n"
   ]
  },
  {
   "cell_type": "code",
   "execution_count": 69,
   "id": "146b6065",
   "metadata": {},
   "outputs": [],
   "source": [
    "doc = nlp(u\"The quick brown fox jumpued over the lazy dog's back.\")"
   ]
  },
  {
   "cell_type": "code",
   "execution_count": 70,
   "id": "bec43765",
   "metadata": {},
   "outputs": [],
   "source": [
    "p_count = doc.count_by(spacy.attrs.POS)# attrsis the attributes, pos is parts of speech"
   ]
  },
  {
   "cell_type": "code",
   "execution_count": 71,
   "id": "3f8b8fc0",
   "metadata": {},
   "outputs": [
    {
     "data": {
      "text/plain": [
       "{90: 2, 84: 3, 92: 3, 100: 1, 85: 1, 94: 1, 97: 1}"
      ]
     },
     "execution_count": 71,
     "metadata": {},
     "output_type": "execute_result"
    }
   ],
   "source": [
    "p_count# number 90,84,92 etc represnt the value or position of the token in vocabulary\n",
    "       #2,3 ets are the frequency or number of times its occuring"
   ]
  },
  {
   "cell_type": "code",
   "execution_count": 103,
   "id": "36af2adc",
   "metadata": {},
   "outputs": [
    {
     "name": "stdout",
     "output_type": "stream",
     "text": [
      "84. ADJ    3\n",
      "85. ADP    1\n",
      "90. DET    2\n",
      "92. NOUN   3\n",
      "94. PART   1\n",
      "97. PUNCT  1\n",
      "100. VERB   1\n"
     ]
    }
   ],
   "source": [
    "for k,v in sorted(p_count.items()):\n",
    "    print(f\"{k}. {doc.vocab[k].text:{6}} {v}\")"
   ]
  },
  {
   "cell_type": "code",
   "execution_count": 80,
   "id": "4453b938",
   "metadata": {
    "scrolled": true
   },
   "outputs": [
    {
     "name": "stdout",
     "output_type": "stream",
     "text": [
      "DET 90\n",
      "ADJ 84\n",
      "NOUN 92\n",
      "VERB 100\n",
      "ADP 85\n",
      "PART 94\n",
      "PUNCT 97\n"
     ]
    }
   ],
   "source": [
    "for i in p_count:\n",
    "    print(doc.vocab[i].text,i)"
   ]
  },
  {
   "cell_type": "code",
   "execution_count": 101,
   "id": "766fd98c",
   "metadata": {
    "scrolled": true
   },
   "outputs": [
    {
     "name": "stdout",
     "output_type": "stream",
     "text": [
      "The                              90                 DET        DT                                        determiner\n",
      "quick                            84                 ADJ        JJ                                         adjective\n",
      "brown                            84                 ADJ        JJ                                         adjective\n",
      "fox                              92                NOUN        NN                            noun, singular or mass\n",
      "jumpued                         100                VERB       VBD                                  verb, past tense\n",
      "over                             85                 ADP        IN         conjunction, subordinating or preposition\n",
      "the                              90                 DET        DT                                        determiner\n",
      "lazy                             84                 ADJ        JJ                                         adjective\n",
      "dog                              92                NOUN        NN                            noun, singular or mass\n",
      "'s                               94                PART       POS                                 possessive ending\n",
      "back                             92                NOUN        NN                            noun, singular or mass\n",
      ".                                97               PUNCT         .                 punctuation mark, sentence closer\n"
     ]
    }
   ],
   "source": [
    "for i in doc:\n",
    "    print(f\"{i.text:{25}}{i.pos:{10}}{i.pos_:>{20}}{i.tag_:>{10}}{spacy.explain(i.tag_):>{50}}\")"
   ]
  },
  {
   "cell_type": "code",
   "execution_count": null,
   "id": "cad344ff",
   "metadata": {},
   "outputs": [],
   "source": []
  }
 ],
 "metadata": {
  "kernelspec": {
   "display_name": "Python 3",
   "language": "python",
   "name": "python3"
  },
  "language_info": {
   "codemirror_mode": {
    "name": "ipython",
    "version": 3
   },
   "file_extension": ".py",
   "mimetype": "text/x-python",
   "name": "python",
   "nbconvert_exporter": "python",
   "pygments_lexer": "ipython3",
   "version": "3.8.8"
  }
 },
 "nbformat": 4,
 "nbformat_minor": 5
}
