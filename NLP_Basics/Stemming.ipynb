{
 "cells": [
  {
   "cell_type": "markdown",
   "id": "0872df37",
   "metadata": {},
   "source": [
    "## Stemming\n",
    "It chops of the words from end untill it reaches a root word.\n",
    "Spacy does not include stemmer in it therefor we are going to use NLTK."
   ]
  },
  {
   "cell_type": "markdown",
   "id": "fd0e445c",
   "metadata": {},
   "source": [
    "we have two types of Stemmers\n",
    "1)--Porter Stemmer\n",
    "2)--SnowBall Stemmer"
   ]
  },
  {
   "cell_type": "code",
   "execution_count": 1,
   "id": "211a1b72",
   "metadata": {},
   "outputs": [],
   "source": [
    "import nltk"
   ]
  },
  {
   "cell_type": "code",
   "execution_count": 2,
   "id": "d1787bca",
   "metadata": {},
   "outputs": [],
   "source": [
    "from nltk.stem.porter import PorterStemmer"
   ]
  },
  {
   "cell_type": "code",
   "execution_count": 3,
   "id": "59e9f1e3",
   "metadata": {},
   "outputs": [],
   "source": [
    "p_stem = PorterStemmer()"
   ]
  },
  {
   "cell_type": "code",
   "execution_count": 16,
   "id": "085b2196",
   "metadata": {},
   "outputs": [],
   "source": [
    "words = [\"preventable\",\"girls\",\"runs\",\"bravely\",\"celebration\",\"celebrations\",\"laughed\",\"runner\",\"running\",\"easily\",\"fairly\",\"fairness\"]"
   ]
  },
  {
   "cell_type": "code",
   "execution_count": 17,
   "id": "5b2965cc",
   "metadata": {},
   "outputs": [
    {
     "name": "stdout",
     "output_type": "stream",
     "text": [
      "preventable------->prevent\n",
      "girls------->girl\n",
      "runs------->run\n",
      "bravely------->brave\n",
      "celebration------->celebr\n",
      "celebrations------->celebr\n",
      "laughed------->laugh\n",
      "runner------->runner\n",
      "running------->run\n",
      "easily------->easili\n",
      "fairly------->fairli\n",
      "fairness------->fair\n"
     ]
    }
   ],
   "source": [
    "for word in words:\n",
    "    print(word + '------->' + p_stem.stem(word))"
   ]
  },
  {
   "cell_type": "code",
   "execution_count": 18,
   "id": "a669ebd9",
   "metadata": {},
   "outputs": [],
   "source": [
    "from nltk.stem.snowball import SnowballStemmer"
   ]
  },
  {
   "cell_type": "code",
   "execution_count": 19,
   "id": "3250e18c",
   "metadata": {},
   "outputs": [],
   "source": [
    "s_s = SnowballStemmer(language=\"english\")"
   ]
  },
  {
   "cell_type": "code",
   "execution_count": 20,
   "id": "9ba79e99",
   "metadata": {},
   "outputs": [
    {
     "name": "stdout",
     "output_type": "stream",
     "text": [
      "preventable------>prevent\n",
      "girls------>girl\n",
      "runs------>run\n",
      "bravely------>brave\n",
      "celebration------>celebr\n",
      "celebrations------>celebr\n",
      "laughed------>laugh\n",
      "runner------>runner\n",
      "running------>run\n",
      "easily------>easili\n",
      "fairly------>fair\n",
      "fairness------>fair\n"
     ]
    }
   ],
   "source": [
    "for word in words:\n",
    "    print(word + '------>'+s_s.stem(word))"
   ]
  },
  {
   "cell_type": "code",
   "execution_count": 21,
   "id": "f229e9d5",
   "metadata": {},
   "outputs": [],
   "source": [
    "words = [\"generate\",\"generous\",\"generation\",\"generously\"]"
   ]
  },
  {
   "cell_type": "code",
   "execution_count": 22,
   "id": "ec580b4c",
   "metadata": {},
   "outputs": [
    {
     "name": "stdout",
     "output_type": "stream",
     "text": [
      "generate------>generat\n",
      "generous------>generous\n",
      "generation------>generat\n",
      "generously------>generous\n"
     ]
    }
   ],
   "source": [
    "for word in words:\n",
    "    print(word + '------>'+s_s.stem(word))"
   ]
  },
  {
   "cell_type": "code",
   "execution_count": 23,
   "id": "3a044e76",
   "metadata": {},
   "outputs": [
    {
     "name": "stdout",
     "output_type": "stream",
     "text": [
      "generate------>gener\n",
      "generous------>gener\n",
      "generation------>gener\n",
      "generously------>gener\n"
     ]
    }
   ],
   "source": [
    "for word in words:\n",
    "    print(word + '------>'+p_stem.stem(word))"
   ]
  },
  {
   "cell_type": "code",
   "execution_count": null,
   "id": "13f16387",
   "metadata": {},
   "outputs": [],
   "source": []
  }
 ],
 "metadata": {
  "kernelspec": {
   "display_name": "Python 3",
   "language": "python",
   "name": "python3"
  },
  "language_info": {
   "codemirror_mode": {
    "name": "ipython",
    "version": 3
   },
   "file_extension": ".py",
   "mimetype": "text/x-python",
   "name": "python",
   "nbconvert_exporter": "python",
   "pygments_lexer": "ipython3",
   "version": "3.8.8"
  }
 },
 "nbformat": 4,
 "nbformat_minor": 5
}
