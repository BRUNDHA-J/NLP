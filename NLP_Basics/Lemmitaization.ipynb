{
 "cells": [
  {
   "cell_type": "code",
   "execution_count": 1,
   "id": "37773b73",
   "metadata": {},
   "outputs": [],
   "source": [
    "import spacy"
   ]
  },
  {
   "cell_type": "code",
   "execution_count": 2,
   "id": "e2429f83",
   "metadata": {},
   "outputs": [],
   "source": [
    "nlp = spacy.load(\"en_core_web_sm\")"
   ]
  },
  {
   "cell_type": "code",
   "execution_count": 5,
   "id": "bd0d5414",
   "metadata": {},
   "outputs": [],
   "source": [
    "doc = nlp(u\"I am a writer of this book. I'm searching for a script to write, since i'm a writer i like writing\")"
   ]
  },
  {
   "cell_type": "code",
   "execution_count": 18,
   "id": "d33ae7de",
   "metadata": {},
   "outputs": [
    {
     "name": "stdout",
     "output_type": "stream",
     "text": [
      "I                   PRON      4690420944186131903                               I                   \n",
      "am                  AUX       10382539506755952630                              be                  \n",
      "a                   DET       11901859001352538922                              a                   \n",
      "writer              NOUN      4314464799255024786                               writer              \n",
      "of                  ADP       886050111519832510                                of                  \n",
      "this                DET       1995909169258310477                               this                \n",
      "book                NOUN      13814433107111459297                              book                \n",
      ".                   PUNCT     12646065887601541794                              .                   \n",
      "I                   PRON      4690420944186131903                               I                   \n",
      "'m                  AUX       10382539506755952630                              be                  \n",
      "searching           VERB      295895373269394349                                search              \n",
      "for                 ADP       16037325823156266367                              for                 \n",
      "a                   DET       11901859001352538922                              a                   \n",
      "script              NOUN      8721826050243533674                               script              \n",
      "to                  PART      3791531372978436496                               to                  \n",
      "write               VERB      15597474948775060119                              write               \n",
      ",                   PUNCT     2593208677638477497                               ,                   \n",
      "since               SCONJ     10066841407251338481                              since               \n",
      "i                   PRON      4690420944186131903                               I                   \n",
      "'m                  VERB      10382539506755952630                              be                  \n",
      "a                   DET       11901859001352538922                              a                   \n",
      "writer              NOUN      4314464799255024786                               writer              \n",
      "i                   PRON      4690420944186131903                               I                   \n",
      "like                VERB      18194338103975822726                              like                \n",
      "writing             VERB      15597474948775060119                              write               \n"
     ]
    }
   ],
   "source": [
    "for t in doc:\n",
    "    print(f\"{t.text:{20}}{t.pos_:{10}}{t.lemma:<{50}}{t.lemma_:{20}}\")#those numbers include position of the root word in the model"
   ]
  },
  {
   "cell_type": "code",
   "execution_count": 32,
   "id": "4bccf2f9",
   "metadata": {},
   "outputs": [],
   "source": [
    "def show_lemma(test):\n",
    "    for t in test:\n",
    "        print(f\"{t.text:{20}}{t.pos_:{10}}{t.lemma:<{50}}{t.lemma_:{20}}\")"
   ]
  },
  {
   "cell_type": "code",
   "execution_count": 47,
   "id": "f8629db0",
   "metadata": {},
   "outputs": [],
   "source": [
    "doc = nlp(u\"I like science and computer vision\")"
   ]
  },
  {
   "cell_type": "code",
   "execution_count": 48,
   "id": "b494f11a",
   "metadata": {},
   "outputs": [
    {
     "name": "stdout",
     "output_type": "stream",
     "text": [
      "I                   PRON      4690420944186131903                               I                   \n",
      "like                VERB      18194338103975822726                              like                \n",
      "science             NOUN      15907409978124634296                              science             \n",
      "and                 CCONJ     2283656566040971221                               and                 \n",
      "computer            NOUN      4912942957612137283                               computer            \n",
      "vision              NOUN      13805421583668193750                              vision              \n"
     ]
    }
   ],
   "source": [
    "show_lemma(doc)"
   ]
  },
  {
   "cell_type": "code",
   "execution_count": null,
   "id": "184be617",
   "metadata": {},
   "outputs": [],
   "source": []
  }
 ],
 "metadata": {
  "kernelspec": {
   "display_name": "Python 3",
   "language": "python",
   "name": "python3"
  },
  "language_info": {
   "codemirror_mode": {
    "name": "ipython",
    "version": 3
   },
   "file_extension": ".py",
   "mimetype": "text/x-python",
   "name": "python",
   "nbconvert_exporter": "python",
   "pygments_lexer": "ipython3",
   "version": "3.8.8"
  }
 },
 "nbformat": 4,
 "nbformat_minor": 5
}
